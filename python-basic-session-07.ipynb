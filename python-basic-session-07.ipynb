{
 "cells": [
  {
   "cell_type": "markdown",
   "id": "5bcf1215",
   "metadata": {
    "_cell_guid": "b1076dfc-b9ad-4769-8c92-a6c4dae69d19",
    "_uuid": "8f2839f25d086af736a60e9eeb907d3b93b6e0e5",
    "papermill": {
     "duration": 0.002909,
     "end_time": "2025-05-01T10:06:55.940198",
     "exception": false,
     "start_time": "2025-05-01T10:06:55.937289",
     "status": "completed"
    },
    "tags": []
   },
   "source": [
    "## **Dictionaries**\n",
    "\n",
    "### **1.1 Introduction to Dictionaries**\n",
    "\n",
    "In Python, a **dictionary** is a versatile and mutable data structure used to store and organize data in the form of **key-value pairs**. Unlike lists and tuples, where elements are accessed by their index, dictionaries allow retrieval of values using unique keys associated with each value. This makes dictionaries highly efficient for scenarios where data is best represented as pairs rather than a sequence.\n",
    "\n",
    "#### Key-Value Pairs\n",
    "\n",
    "- **Key:** A unique identifier for a value within a dictionary.\n",
    "- **Value:** The data associated with a specific key.\n",
    "\n",
    "**Example:**\n",
    "```python\n",
    "# Creating a simple dictionary\n",
    "student_grades = {'Mujtaba': 92, 'Madiha': 85, 'Irum': 88}\n",
    "```\n",
    "\n",
    "*Side Note: Dictionaries are often compared to real-world dictionaries, where words (keys) are associated with their meanings (values). This analogy helps in understanding the concept of key-value pairs.*"
   ]
  },
  {
   "cell_type": "markdown",
   "id": "8bbdb0fd",
   "metadata": {
    "papermill": {
     "duration": 0.001876,
     "end_time": "2025-05-01T10:06:55.944593",
     "exception": false,
     "start_time": "2025-05-01T10:06:55.942717",
     "status": "completed"
    },
    "tags": []
   },
   "source": [
    "### 1.2 Creating Dictionaries\n",
    "\n",
    "Creating dictionaries in Python involves specifying the key-value pairs within curly braces `{}`. Here's a breakdown of the basic syntax and an example to illustrate the process.\n",
    "\n",
    "#### Basic Syntax\n",
    "\n",
    "- The general syntax for creating a dictionary is as follows:\n",
    "\n",
    "```python\n",
    "dictionary_name = {key1: value1, key2: value2, ...}\n",
    "```\n",
    "\n",
    "- Keys and values are separated by colons (`:`), and each key-value pair is separated by commas."
   ]
  },
  {
   "cell_type": "markdown",
   "id": "7651ef06",
   "metadata": {
    "papermill": {
     "duration": 0.001845,
     "end_time": "2025-05-01T10:06:55.948564",
     "exception": false,
     "start_time": "2025-05-01T10:06:55.946719",
     "status": "completed"
    },
    "tags": []
   },
   "source": [
    "**Example: Creating a Dictionary**\n",
    "\n",
    "Let's consider a dictionary representing the ages of individuals:\n",
    "\n",
    "```python\n",
    "# Creating a dictionary of ages\n",
    "ages = {'Mujtaba': 23, 'Madiha': 16, 'Irum': 22}\n",
    "```\n",
    "\n",
    "In this example:\n",
    "- `Mujtaba`, `Madiha`, and `Irum` are keys.\n",
    "- `23`, `16`, and `22` are their respective values.\n",
    "\n",
    "*Side Note: Keys must be unique within a dictionary, as they serve as identifiers for their corresponding values. Attempting to have duplicate keys will result in the last assignment taking precedence.*"
   ]
  },
  {
   "cell_type": "code",
   "execution_count": 1,
   "id": "778efe6f",
   "metadata": {
    "execution": {
     "iopub.execute_input": "2025-05-01T10:06:55.954367Z",
     "iopub.status.busy": "2025-05-01T10:06:55.954076Z",
     "iopub.status.idle": "2025-05-01T10:06:55.961175Z",
     "shell.execute_reply": "2025-05-01T10:06:55.960450Z"
    },
    "papermill": {
     "duration": 0.011551,
     "end_time": "2025-05-01T10:06:55.962408",
     "exception": false,
     "start_time": "2025-05-01T10:06:55.950857",
     "status": "completed"
    },
    "tags": []
   },
   "outputs": [],
   "source": [
    "ages = {'Mujtaba': 23, 'Madiha': 16, 'Irum': 22}"
   ]
  },
  {
   "cell_type": "markdown",
   "id": "4a4eabba",
   "metadata": {
    "papermill": {
     "duration": 0.001844,
     "end_time": "2025-05-01T10:06:55.966502",
     "exception": false,
     "start_time": "2025-05-01T10:06:55.964658",
     "status": "completed"
    },
    "tags": []
   },
   "source": [
    "*Reflection Questions:*\n",
    "1. What is the primary purpose of dictionaries in Python?\n",
    "   - a) Storing only numerical data\n",
    "   - b) Managing key-value pairs\n",
    "   - c) Sorting elements in ascending order\n",
    "   - d) Performing mathematical operations\n",
    "\n",
    "<details>\n",
    "<summary>Click to reveal the answer:</summary>\n",
    "b) Managing key-value pairs"
   ]
  },
  {
   "cell_type": "markdown",
   "id": "2470dba0",
   "metadata": {
    "execution": {
     "iopub.execute_input": "2025-05-01T09:37:33.682299Z",
     "iopub.status.busy": "2025-05-01T09:37:33.681949Z",
     "iopub.status.idle": "2025-05-01T09:37:33.694697Z",
     "shell.execute_reply": "2025-05-01T09:37:33.693444Z",
     "shell.execute_reply.started": "2025-05-01T09:37:33.682273Z"
    },
    "papermill": {
     "duration": 0.002043,
     "end_time": "2025-05-01T10:06:55.970547",
     "exception": false,
     "start_time": "2025-05-01T10:06:55.968504",
     "status": "completed"
    },
    "tags": []
   },
   "source": [
    "2. What is the fundamental difference between dictionaries and lists in Python?\n",
    "   - a) Lists use keys, dictionaries use indexes.\n",
    "   - b) Lists store values, dictionaries store pairs.\n",
    "   - c) Lists are mutable, dictionaries are immutable.\n",
    "   - d) Lists have a fixed size, dictionaries can grow dynamically.\n",
    "\n",
    "<details>\n",
    "<summary>Click to reveal the answer:</summary>\n",
    "b) Lists store values, dictionaries store pairs."
   ]
  },
  {
   "cell_type": "markdown",
   "id": "9346cb55",
   "metadata": {
    "papermill": {
     "duration": 0.001827,
     "end_time": "2025-05-01T10:06:55.974385",
     "exception": false,
     "start_time": "2025-05-01T10:06:55.972558",
     "status": "completed"
    },
    "tags": []
   },
   "source": [
    "3. Why are dictionaries considered efficient for data retrieval?\n",
    "   - a) Values are stored in a sequential order.\n",
    "   - b) Elements can be accessed by index.\n",
    "   - c) Data is organized as key-value pairs.\n",
    "   - d) Dictionaries have a fixed size.\n",
    "\n",
    "<details>\n",
    "<summary>Click to reveal the answer:</summary>\n",
    "c) Data is organized as key-value pairs."
   ]
  },
  {
   "cell_type": "markdown",
   "id": "53d1e2f5",
   "metadata": {
    "papermill": {
     "duration": 0.001854,
     "end_time": "2025-05-01T10:06:55.979398",
     "exception": false,
     "start_time": "2025-05-01T10:06:55.977544",
     "status": "completed"
    },
    "tags": []
   },
   "source": [
    "4. How would you describe a key in a dictionary?\n",
    "   - a) A value associated with a specific data type.\n",
    "   - b) An index indicating the position of an element.\n",
    "   - c) A unique identifier for a value.\n",
    "   - d) A numerical representation of data.\n",
    "\n",
    "<details>\n",
    "<summary>Click to reveal the answer:</summary>\n",
    "c) A unique identifier for a value."
   ]
  },
  {
   "cell_type": "markdown",
   "id": "f79a46fc",
   "metadata": {
    "papermill": {
     "duration": 0.001845,
     "end_time": "2025-05-01T10:06:55.983252",
     "exception": false,
     "start_time": "2025-05-01T10:06:55.981407",
     "status": "completed"
    },
    "tags": []
   },
   "source": [
    "5. What is the purpose of curly braces in the basic syntax of creating dictionaries?\n",
    "   - a) To indicate the type of data being stored.\n",
    "   - b) To create a block of code.\n",
    "   - c) To represent a set of key-value pairs.\n",
    "   - d) To define the scope of the dictionary.\n",
    "   \n",
    "   <details>\n",
    "<summary>Click to reveal the answer:</summary>\n",
    "c) To represent a set of key-value pairs."
   ]
  },
  {
   "cell_type": "markdown",
   "id": "ee9890e6",
   "metadata": {
    "papermill": {
     "duration": 0.0019,
     "end_time": "2025-05-01T10:06:55.987099",
     "exception": false,
     "start_time": "2025-05-01T10:06:55.985199",
     "status": "completed"
    },
    "tags": []
   },
   "source": [
    "6. In the example provided, what are the keys and values in the `ages` dictionary?\n",
    "   - a) Keys: 25, 30, 22; Values: 'Alice', 'Bob', 'Charlie'\n",
    "   - b) Keys: 'Alice', 'Bob', 'Charlie'; Values: 25, 30, 22\n",
    "   - c) Keys: 25, 'Bob', 22; Values: 'Alice', 'Charlie', 30\n",
    "   - d) Keys: 'Alice', 'Bob', 'Charlie'; Values: 25, 30, 22\n",
    "   \n",
    "<details>\n",
    "<summary>Click to reveal the answer:</summary>\n",
    "Keys: 'Alice', 'Bob', 'Charlie'; Values: 25, 30, 22"
   ]
  },
  {
   "cell_type": "markdown",
   "id": "5a2e8feb",
   "metadata": {
    "papermill": {
     "duration": 0.001827,
     "end_time": "2025-05-01T10:06:55.990928",
     "exception": false,
     "start_time": "2025-05-01T10:06:55.989101",
     "status": "completed"
    },
    "tags": []
   },
   "source": [
    "7. Why is it important for keys to be unique within a dictionary?\n",
    "   - a) It simplifies the syntax of dictionary creation.\n",
    "   - b) It ensures efficient data retrieval.\n",
    "   - c) It allows for the use of duplicate keys.\n",
    "   - d) It is a convention but not a requirement.\n",
    "   \n",
    "<details>\n",
    "<summary>Click to reveal the answer:</summary>\n",
    "b) It ensures efficient data retrieval."
   ]
  },
  {
   "cell_type": "code",
   "execution_count": null,
   "id": "bcc8d4a4",
   "metadata": {
    "papermill": {
     "duration": 0.001848,
     "end_time": "2025-05-01T10:06:55.994734",
     "exception": false,
     "start_time": "2025-05-01T10:06:55.992886",
     "status": "completed"
    },
    "tags": []
   },
   "outputs": [],
   "source": []
  }
 ],
 "metadata": {
  "kaggle": {
   "accelerator": "none",
   "dataSources": [],
   "dockerImageVersionId": 31012,
   "isGpuEnabled": false,
   "isInternetEnabled": true,
   "language": "python",
   "sourceType": "notebook"
  },
  "kernelspec": {
   "display_name": "Python 3",
   "language": "python",
   "name": "python3"
  },
  "language_info": {
   "codemirror_mode": {
    "name": "ipython",
    "version": 3
   },
   "file_extension": ".py",
   "mimetype": "text/x-python",
   "name": "python",
   "nbconvert_exporter": "python",
   "pygments_lexer": "ipython3",
   "version": "3.11.11"
  },
  "papermill": {
   "default_parameters": {},
   "duration": 4.752591,
   "end_time": "2025-05-01T10:06:56.315020",
   "environment_variables": {},
   "exception": null,
   "input_path": "__notebook__.ipynb",
   "output_path": "__notebook__.ipynb",
   "parameters": {},
   "start_time": "2025-05-01T10:06:51.562429",
   "version": "2.6.0"
  }
 },
 "nbformat": 4,
 "nbformat_minor": 5
}
