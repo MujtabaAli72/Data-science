{
 "cells": [
  {
   "cell_type": "markdown",
   "id": "4736e240",
   "metadata": {
    "_cell_guid": "b1076dfc-b9ad-4769-8c92-a6c4dae69d19",
    "_uuid": "8f2839f25d086af736a60e9eeb907d3b93b6e0e5",
    "papermill": {
     "duration": 0.016336,
     "end_time": "2025-05-11T11:08:15.400863",
     "exception": false,
     "start_time": "2025-05-11T11:08:15.384527",
     "status": "completed"
    },
    "tags": []
   },
   "source": [
    "## **Dictionaries**\n",
    "\n",
    "### **1.1 Introduction to Dictionaries**\n",
    "\n",
    "In Python, a **dictionary** is a versatile and mutable data structure used to store and organize data in the form of **key-value pairs**. Unlike lists and tuples, where elements are accessed by their index, dictionaries allow retrieval of values using unique keys associated with each value. This makes dictionaries highly efficient for scenarios where data is best represented as pairs rather than a sequence.\n",
    "\n",
    "#### Key-Value Pairs\n",
    "\n",
    "- **Key:** A unique identifier for a value within a dictionary.\n",
    "- **Value:** The data associated with a specific key.\n",
    "\n",
    "**Example:**\n",
    "```python\n",
    "# Creating a simple dictionary\n",
    "student_grades = {'Mujtaba': 92, 'Madiha': 85, 'Irum': 88}\n",
    "```\n",
    "\n",
    "*Side Note: Dictionaries are often compared to real-world dictionaries, where words (keys) are associated with their meanings (values). This analogy helps in understanding the concept of key-value pairs.*"
   ]
  },
  {
   "cell_type": "markdown",
   "id": "e35a86ea",
   "metadata": {
    "papermill": {
     "duration": 0.009582,
     "end_time": "2025-05-11T11:08:15.420647",
     "exception": false,
     "start_time": "2025-05-11T11:08:15.411065",
     "status": "completed"
    },
    "tags": []
   },
   "source": [
    "### 1.2 Creating Dictionaries\n",
    "\n",
    "Creating dictionaries in Python involves specifying the key-value pairs within curly braces `{}`. Here's a breakdown of the basic syntax and an example to illustrate the process.\n",
    "\n",
    "#### Basic Syntax\n",
    "\n",
    "- The general syntax for creating a dictionary is as follows:\n",
    "\n",
    "```python\n",
    "dictionary_name = {key1: value1, key2: value2, ...}\n",
    "```\n",
    "\n",
    "- Keys and values are separated by colons (`:`), and each key-value pair is separated by commas."
   ]
  },
  {
   "cell_type": "markdown",
   "id": "47ecfc3b",
   "metadata": {
    "papermill": {
     "duration": 0.009488,
     "end_time": "2025-05-11T11:08:15.440013",
     "exception": false,
     "start_time": "2025-05-11T11:08:15.430525",
     "status": "completed"
    },
    "tags": []
   },
   "source": [
    "**Example: Creating a Dictionary**\n",
    "\n",
    "Let's consider a dictionary representing the ages of individuals:\n",
    "\n",
    "```python\n",
    "# Creating a dictionary of ages\n",
    "ages = {'Mujtaba': 23, 'Madiha': 16, 'Irum': 22}\n",
    "```\n",
    "\n",
    "In this example:\n",
    "- `Mujtaba`, `Madiha`, and `Irum` are keys.\n",
    "- `23`, `16`, and `22` are their respective values.\n",
    "\n",
    "*Side Note: Keys must be unique within a dictionary, as they serve as identifiers for their corresponding values. Attempting to have duplicate keys will result in the last assignment taking precedence.*"
   ]
  },
  {
   "cell_type": "code",
   "execution_count": 1,
   "id": "a6d04a3b",
   "metadata": {
    "execution": {
     "iopub.execute_input": "2025-05-11T11:08:15.461810Z",
     "iopub.status.busy": "2025-05-11T11:08:15.461417Z",
     "iopub.status.idle": "2025-05-11T11:08:15.471840Z",
     "shell.execute_reply": "2025-05-11T11:08:15.470869Z"
    },
    "papermill": {
     "duration": 0.023694,
     "end_time": "2025-05-11T11:08:15.473563",
     "exception": false,
     "start_time": "2025-05-11T11:08:15.449869",
     "status": "completed"
    },
    "tags": []
   },
   "outputs": [],
   "source": [
    "ages = {'Mujtaba': 23, 'Madiha': 16, 'Irum': 22}"
   ]
  },
  {
   "cell_type": "markdown",
   "id": "5bc26e74",
   "metadata": {
    "papermill": {
     "duration": 0.010181,
     "end_time": "2025-05-11T11:08:15.494988",
     "exception": false,
     "start_time": "2025-05-11T11:08:15.484807",
     "status": "completed"
    },
    "tags": []
   },
   "source": [
    "### 1.3 Accessing and Modifying Dictionary Elements\n",
    "\n",
    "Once a dictionary is created, you can access and modify its elements using various methods.\n",
    "\n",
    "#### Accessing Values by Key\n",
    "\n",
    "- To retrieve the value associated with a specific key, use the following syntax:\n",
    "\n",
    "```python\n",
    "value = dictionary_name[key]\n",
    "```\n",
    "\n",
    "**Example:**\n",
    "```python\n",
    "# Accessing the age of 'Madiha'\n",
    "Madiha_age = ages['Madiha']\n",
    "print(f\"The age of Madiha is {Madiha_age} years.\")\n",
    "```"
   ]
  },
  {
   "cell_type": "code",
   "execution_count": 2,
   "id": "84f70ba9",
   "metadata": {
    "execution": {
     "iopub.execute_input": "2025-05-11T11:08:15.516459Z",
     "iopub.status.busy": "2025-05-11T11:08:15.516058Z",
     "iopub.status.idle": "2025-05-11T11:08:15.521917Z",
     "shell.execute_reply": "2025-05-11T11:08:15.520758Z"
    },
    "papermill": {
     "duration": 0.019065,
     "end_time": "2025-05-11T11:08:15.523982",
     "exception": false,
     "start_time": "2025-05-11T11:08:15.504917",
     "status": "completed"
    },
    "tags": []
   },
   "outputs": [
    {
     "name": "stdout",
     "output_type": "stream",
     "text": [
      "The age of Madiha is 16 years.\n"
     ]
    }
   ],
   "source": [
    "Madiha_age = ages['Madiha']\n",
    "print(f\"The age of Madiha is {Madiha_age} years.\")"
   ]
  },
  {
   "cell_type": "markdown",
   "id": "59d5a372",
   "metadata": {
    "papermill": {
     "duration": 0.009613,
     "end_time": "2025-05-11T11:08:15.549314",
     "exception": false,
     "start_time": "2025-05-11T11:08:15.539701",
     "status": "completed"
    },
    "tags": []
   },
   "source": [
    "#### Modifying Values\n",
    "\n",
    "- To modify the value associated with a key, use the key within the assignment statement:\n",
    "\n",
    "```python\n",
    "dictionary_name[key] = new_value\n",
    "```\n",
    "\n",
    "**Example:**\n",
    "```python\n",
    "# Modifying Mujtaba's age\n",
    "ages['Mujtaba'] = 26\n",
    "print(f\"Updated age of Mujtaba: {ages['Mujtaba']} years.\")\n",
    "```"
   ]
  },
  {
   "cell_type": "code",
   "execution_count": 3,
   "id": "939f65ff",
   "metadata": {
    "execution": {
     "iopub.execute_input": "2025-05-11T11:08:15.571552Z",
     "iopub.status.busy": "2025-05-11T11:08:15.571141Z",
     "iopub.status.idle": "2025-05-11T11:08:15.577643Z",
     "shell.execute_reply": "2025-05-11T11:08:15.576521Z"
    },
    "papermill": {
     "duration": 0.019033,
     "end_time": "2025-05-11T11:08:15.579080",
     "exception": false,
     "start_time": "2025-05-11T11:08:15.560047",
     "status": "completed"
    },
    "tags": []
   },
   "outputs": [
    {
     "name": "stdout",
     "output_type": "stream",
     "text": [
      "Updated age of Mujtaba: 26 years.\n",
      "New age of Madiha: 16 years.\n"
     ]
    }
   ],
   "source": [
    "ages['Mujtaba'] = 26\n",
    "ages['Madiha'] = 16\n",
    "print(f\"Updated age of Mujtaba: {ages['Mujtaba']} years.\")\n",
    "print(f\"New age of Madiha: {ages['Madiha']} years.\")"
   ]
  },
  {
   "cell_type": "markdown",
   "id": "29801369",
   "metadata": {
    "papermill": {
     "duration": 0.009539,
     "end_time": "2025-05-11T11:08:15.598725",
     "exception": false,
     "start_time": "2025-05-11T11:08:15.589186",
     "status": "completed"
    },
    "tags": []
   },
   "source": [
    "#### Adding New Key-Value Pairs\n",
    "\n",
    "- To add a new key-value pair to the dictionary, use the following syntax:\n",
    "\n",
    "```python\n",
    "dictionary_name[new_key] = new_value\n",
    "```\n",
    "\n",
    "**Example:**\n",
    "```python\n",
    "# Adding a new person and age to the dictionary\n",
    "ages['Ali'] = 35\n",
    "print(f\"The age of Ali is {ages['Ali']} years.\")\n",
    "```\n",
    "\n",
    "*Side Note: If the specified key already exists when adding a new key-value pair, the associated value will be updated.*"
   ]
  },
  {
   "cell_type": "code",
   "execution_count": 4,
   "id": "2b340b86",
   "metadata": {
    "execution": {
     "iopub.execute_input": "2025-05-11T11:08:15.620921Z",
     "iopub.status.busy": "2025-05-11T11:08:15.620607Z",
     "iopub.status.idle": "2025-05-11T11:08:15.628424Z",
     "shell.execute_reply": "2025-05-11T11:08:15.627450Z"
    },
    "papermill": {
     "duration": 0.021528,
     "end_time": "2025-05-11T11:08:15.630175",
     "exception": false,
     "start_time": "2025-05-11T11:08:15.608647",
     "status": "completed"
    },
    "tags": []
   },
   "outputs": [
    {
     "name": "stdout",
     "output_type": "stream",
     "text": [
      "The age of David is 35 years.\n"
     ]
    },
    {
     "data": {
      "text/plain": [
       "{'Mujtaba': 26, 'Madiha': 16, 'Irum': 22, 'Ali': 35, 'Abbas': 35}"
      ]
     },
     "execution_count": 4,
     "metadata": {},
     "output_type": "execute_result"
    }
   ],
   "source": [
    "ages['Ali'] = 35\n",
    "ages[\"Abbas\"] = 35\n",
    "print(f\"The age of David is {ages['Ali']} years.\")\n",
    "ages"
   ]
  },
  {
   "cell_type": "markdown",
   "id": "510d40dc",
   "metadata": {
    "papermill": {
     "duration": 0.010355,
     "end_time": "2025-05-11T11:08:15.659017",
     "exception": false,
     "start_time": "2025-05-11T11:08:15.648662",
     "status": "completed"
    },
    "tags": []
   },
   "source": [
    "### 1.4 Dictionary Methods\n",
    "\n",
    "Dictionaries in Python come with a variety of built-in methods that offer convenient ways to manipulate and work with dictionary data.\n",
    "\n",
    "#### `keys()`, `values()`, `items()`\n",
    "\n",
    "- These methods provide views of the keys, values, and key-value pairs in the dictionary, respectively."
   ]
  },
  {
   "cell_type": "markdown",
   "id": "b49d2193",
   "metadata": {
    "papermill": {
     "duration": 0.010202,
     "end_time": "2025-05-11T11:08:15.680578",
     "exception": false,
     "start_time": "2025-05-11T11:08:15.670376",
     "status": "completed"
    },
    "tags": []
   },
   "source": [
    "**Example:**\n",
    "```python\n",
    "# Using dictionary methods\n",
    "ages = {'Ali': 25, 'Madiha': 30, 'Elya': 22}\n",
    "\n",
    "# Getting a view of keys\n",
    "all_keys = ages.keys()\n",
    "print(f\"Keys: {all_keys}\")\n",
    "\n",
    "# Getting a view of values\n",
    "all_values = ages.values()\n",
    "print(f\"Values: {all_values}\")\n",
    "\n",
    "# Getting a view of key-value pairs\n",
    "all_items = ages.items()\n",
    "print(f\"Key-Value Pairs: {all_items}\")\n",
    "```"
   ]
  },
  {
   "cell_type": "code",
   "execution_count": 5,
   "id": "b0534776",
   "metadata": {
    "execution": {
     "iopub.execute_input": "2025-05-11T11:08:15.702114Z",
     "iopub.status.busy": "2025-05-11T11:08:15.701708Z",
     "iopub.status.idle": "2025-05-11T11:08:15.708988Z",
     "shell.execute_reply": "2025-05-11T11:08:15.707919Z"
    },
    "papermill": {
     "duration": 0.020094,
     "end_time": "2025-05-11T11:08:15.710718",
     "exception": false,
     "start_time": "2025-05-11T11:08:15.690624",
     "status": "completed"
    },
    "tags": []
   },
   "outputs": [
    {
     "name": "stdout",
     "output_type": "stream",
     "text": [
      "Keys: dict_keys(['Ali', 'Mujtaba', 'Madiha', 'Elya'])\n",
      "Values: dict_values([25, 26, 18, 24])\n",
      "Key-Value Pairs: dict_items([('Ali', 25), ('Mujtaba', 26), ('Madiha', 18), ('Elya', 24)])\n"
     ]
    }
   ],
   "source": [
    "# Using dictionary methods\n",
    "ages = {'Ali': 25, 'Mujtaba': 26, 'Madiha': 18, \"Elya\":24}\n",
    "\n",
    "# Getting a view of keys\n",
    "all_keys = ages.keys()\n",
    "print(f\"Keys: {all_keys}\")\n",
    "\n",
    "# Getting a view of values\n",
    "all_values = ages.values()\n",
    "print(f\"Values: {all_values}\")\n",
    "\n",
    "# Getting a view of key-value pairs\n",
    "all_items = ages.items()\n",
    "print(f\"Key-Value Pairs: {all_items}\")"
   ]
  },
  {
   "cell_type": "markdown",
   "id": "d6b28346",
   "metadata": {
    "papermill": {
     "duration": 0.01015,
     "end_time": "2025-05-11T11:08:15.731584",
     "exception": false,
     "start_time": "2025-05-11T11:08:15.721434",
     "status": "completed"
    },
    "tags": []
   },
   "source": [
    "#### `get()` and `setdefault()`\n",
    "\n",
    "- The `get()` method allows safe retrieval of a value by key, and `setdefault()` sets a default value if the key is not present.\n",
    "\n",
    "**Example:**\n",
    "```python\n",
    "# Using get() to safely retrieve a value\n",
    "age_of_ali = ages.get('Ali', 'Age not available')\n",
    "print(f\"The age of Ali is {age_of_ali} years.\")\n",
    "\n",
    "# Using setdefault() to set a default value\n",
    "age_of_elya = ages.setdefault('Elya', 28)\n",
    "print(f\"The age of Elya is {age_of_elya} years.\")\n",
    "```\n",
    "\n",
    "*Side Note: The `get()` method is useful to avoid KeyError when attempting to access a non-existent key, while `setdefault()` helps in providing default values for new keys.*"
   ]
  },
  {
   "cell_type": "code",
   "execution_count": 6,
   "id": "6cd919bd",
   "metadata": {
    "execution": {
     "iopub.execute_input": "2025-05-11T11:08:15.754399Z",
     "iopub.status.busy": "2025-05-11T11:08:15.754003Z",
     "iopub.status.idle": "2025-05-11T11:08:15.761099Z",
     "shell.execute_reply": "2025-05-11T11:08:15.759786Z"
    },
    "papermill": {
     "duration": 0.021156,
     "end_time": "2025-05-11T11:08:15.762993",
     "exception": false,
     "start_time": "2025-05-11T11:08:15.741837",
     "status": "completed"
    },
    "tags": []
   },
   "outputs": [
    {
     "name": "stdout",
     "output_type": "stream",
     "text": [
      "The age of Ali is 25 years.\n",
      "The age of Elya is 24 years.\n"
     ]
    }
   ],
   "source": [
    "# Using get() to safely retrieve a value\n",
    "age_of_ali = ages.get('Ali', 'Age not available')\n",
    "print(f\"The age of Ali is {age_of_ali} years.\")\n",
    "\n",
    "# Using setdefault() to set a default value\n",
    "age_of_elya = ages.setdefault('Elya', 28)\n",
    "print(f\"The age of Elya is {age_of_elya} years.\")"
   ]
  },
  {
   "cell_type": "code",
   "execution_count": 7,
   "id": "21ce6e01",
   "metadata": {
    "execution": {
     "iopub.execute_input": "2025-05-11T11:08:15.787904Z",
     "iopub.status.busy": "2025-05-11T11:08:15.787509Z",
     "iopub.status.idle": "2025-05-11T11:08:15.793914Z",
     "shell.execute_reply": "2025-05-11T11:08:15.792953Z"
    },
    "papermill": {
     "duration": 0.020813,
     "end_time": "2025-05-11T11:08:15.795621",
     "exception": false,
     "start_time": "2025-05-11T11:08:15.774808",
     "status": "completed"
    },
    "tags": []
   },
   "outputs": [
    {
     "name": "stdout",
     "output_type": "stream",
     "text": [
      "City: Unknown\n",
      "Updated Dictionary: {'name': 'Mujtaba', 'age': 25, 'city': 'Unknown'}\n"
     ]
    }
   ],
   "source": [
    "my_dict = {'name': 'Mujtaba', 'age': 25}\n",
    "\n",
    "# Using setdefault to retrieve the value for 'city'\n",
    "city = my_dict.setdefault('city', 'Unknown')\n",
    "\n",
    "print(\"City:\", city)  # Output: City: Unknown\n",
    "print(\"Updated Dictionary:\", my_dict)\n",
    "# Output: Updated Dictionary: {'name': 'Mujtaba', 'age': 25, 'city': 'Unknown'}"
   ]
  },
  {
   "cell_type": "markdown",
   "id": "ff2697a6",
   "metadata": {
    "papermill": {
     "duration": 0.077892,
     "end_time": "2025-05-11T11:08:15.884438",
     "exception": false,
     "start_time": "2025-05-11T11:08:15.806546",
     "status": "completed"
    },
    "tags": []
   },
   "source": [
    "### 1.5 Iterating Through a Dictionary\n",
    "\n",
    "Iterating through a dictionary allows you to access its keys, values, or key-value pairs systematically.\n",
    "\n",
    "#### Looping Through Keys, Values, and Items\n",
    "\n",
    "- The `for` loop is commonly used to iterate through different aspects of a dictionary."
   ]
  },
  {
   "cell_type": "markdown",
   "id": "09fa202f",
   "metadata": {
    "papermill": {
     "duration": 0.010273,
     "end_time": "2025-05-11T11:08:15.905189",
     "exception": false,
     "start_time": "2025-05-11T11:08:15.894916",
     "status": "completed"
    },
    "tags": []
   },
   "source": [
    "**Example:**\n",
    "```python\n",
    "# Iterating through keys\n",
    "for key in ages:\n",
    "    print(f\"Key: {key}\")\n",
    "\n",
    "# Iterating through values\n",
    "for value in ages.values():\n",
    "    print(f\"Value: {value}\")\n",
    "\n",
    "# Iterating through key-value pairs\n",
    "for key, value in ages.items():\n",
    "    print(f\"{key}'s age is {value} years.\")\n",
    "```"
   ]
  },
  {
   "cell_type": "code",
   "execution_count": 8,
   "id": "be241959",
   "metadata": {
    "execution": {
     "iopub.execute_input": "2025-05-11T11:08:15.929003Z",
     "iopub.status.busy": "2025-05-11T11:08:15.928044Z",
     "iopub.status.idle": "2025-05-11T11:08:15.935472Z",
     "shell.execute_reply": "2025-05-11T11:08:15.934378Z"
    },
    "papermill": {
     "duration": 0.021226,
     "end_time": "2025-05-11T11:08:15.937005",
     "exception": false,
     "start_time": "2025-05-11T11:08:15.915779",
     "status": "completed"
    },
    "tags": []
   },
   "outputs": [
    {
     "name": "stdout",
     "output_type": "stream",
     "text": [
      "Key: Ali\n",
      "Key: Mujtaba\n",
      "Key: Madiha\n",
      "Key: Elya\n",
      "Value: 25\n",
      "Value: 26\n",
      "Value: 18\n",
      "Value: 24\n",
      "Ali's age is 25 years.\n",
      "Mujtaba's age is 26 years.\n",
      "Madiha's age is 18 years.\n",
      "Elya's age is 24 years.\n"
     ]
    }
   ],
   "source": [
    "# Iterating through keys\n",
    "for key in ages: #.keys()\n",
    "    print(f\"Key: {key}\")\n",
    "\n",
    "# Iterating through values\n",
    "for value in ages.values():\n",
    "    print(f\"Value: {value}\")\n",
    "\n",
    "# Iterating through key-value pairs\n",
    "for key, value in ages.items():\n",
    "    print(f\"{key}'s age is {value} years.\")"
   ]
  },
  {
   "cell_type": "markdown",
   "id": "cc6995e9",
   "metadata": {
    "papermill": {
     "duration": 0.010256,
     "end_time": "2025-05-11T11:08:15.958039",
     "exception": false,
     "start_time": "2025-05-11T11:08:15.947783",
     "status": "completed"
    },
    "tags": []
   },
   "source": [
    "#### Example: Iterating Through a Dictionary\n",
    "\n",
    "Suppose you want to find and print the names of individuals above a certain age:\n",
    "\n",
    "```python\n",
    "# Iterating through keys and values to find names above a certain age\n",
    "for name, age in ages.items():\n",
    "    if age > 25:\n",
    "        print(f\"{name} is above 25 years old.\")\n",
    "```\n",
    "\n",
    "*Side Note: The order of iteration is not guaranteed to be in the same order as items were inserted into the dictionary. If order matters, use `collections.OrderedDict`.*"
   ]
  },
  {
   "cell_type": "code",
   "execution_count": 9,
   "id": "31add1c2",
   "metadata": {
    "execution": {
     "iopub.execute_input": "2025-05-11T11:08:15.981582Z",
     "iopub.status.busy": "2025-05-11T11:08:15.981185Z",
     "iopub.status.idle": "2025-05-11T11:08:15.987270Z",
     "shell.execute_reply": "2025-05-11T11:08:15.986169Z"
    },
    "papermill": {
     "duration": 0.020685,
     "end_time": "2025-05-11T11:08:15.989332",
     "exception": false,
     "start_time": "2025-05-11T11:08:15.968647",
     "status": "completed"
    },
    "tags": []
   },
   "outputs": [
    {
     "name": "stdout",
     "output_type": "stream",
     "text": [
      "Mujtaba is above 25 years old.\n"
     ]
    }
   ],
   "source": [
    "# Iterating through keys and values to find names above a certain age\n",
    "for name, age in ages.items():\n",
    "    if age > 25:\n",
    "        print(f\"{name} is above 25 years old.\")"
   ]
  },
  {
   "cell_type": "markdown",
   "id": "13899522",
   "metadata": {
    "papermill": {
     "duration": 0.011442,
     "end_time": "2025-05-11T11:08:16.011640",
     "exception": false,
     "start_time": "2025-05-11T11:08:16.000198",
     "status": "completed"
    },
    "tags": []
   },
   "source": [
    "### 1.6 Nested Dictionaries\n",
    "\n",
    "In Python, dictionaries can be nested within one another, allowing for the creation of more complex data structures.\n",
    "\n",
    "#### Definition and Structure\n",
    "\n",
    "- **Nested Dictionary:** A dictionary that is a value within another dictionary.\n",
    "\n",
    "**Example:**\n",
    "```python\n",
    "# Creating a nested dictionary\n",
    "employee_data = {\n",
    "    'Mujtaba': {'age': 26, 'position': 'Manager'},\n",
    "    'Madiha': {'age': 16, 'position': 'Developer'},\n",
    "    'Irum': {'age': 23, 'position': 'Designer'}\n",
    "}\n",
    "```"
   ]
  },
  {
   "cell_type": "code",
   "execution_count": 10,
   "id": "0f51aa2c",
   "metadata": {
    "execution": {
     "iopub.execute_input": "2025-05-11T11:08:16.035012Z",
     "iopub.status.busy": "2025-05-11T11:08:16.034592Z",
     "iopub.status.idle": "2025-05-11T11:08:16.040684Z",
     "shell.execute_reply": "2025-05-11T11:08:16.039481Z"
    },
    "papermill": {
     "duration": 0.020194,
     "end_time": "2025-05-11T11:08:16.042723",
     "exception": false,
     "start_time": "2025-05-11T11:08:16.022529",
     "status": "completed"
    },
    "tags": []
   },
   "outputs": [],
   "source": [
    "employee_data = {\n",
    "    'Mujtaba': {'age': 26, 'position': 'Manager'},\n",
    "    'Madiha': {'age': 16, 'position': 'Developer'},\n",
    "    'Irum': {'age': 23, 'position': 'Designer'}\n",
    "}"
   ]
  },
  {
   "cell_type": "markdown",
   "id": "1aa528a6",
   "metadata": {
    "papermill": {
     "duration": 0.011618,
     "end_time": "2025-05-11T11:08:16.071127",
     "exception": false,
     "start_time": "2025-05-11T11:08:16.059509",
     "status": "completed"
    },
    "tags": []
   },
   "source": [
    "#### Accessing and Modifying Nested Elements\n",
    "\n",
    "- To access or modify values within a nested dictionary, use multiple square brackets to navigate through the levels.\n",
    "\n",
    "**Example:**\n",
    "```python\n",
    "# Accessing Irum's age\n",
    "Irum_age = employee_data['Irum']['age']\n",
    "print(f\"Irum's age: {Irum_age}\")\n",
    "\n",
    "# Modifying Mujtaba's position\n",
    "employee_data['Mujtaba']['position'] = 'Senior Manager'\n",
    "print(f\"Mujtaba's updated position: {employee_data['Mujtaba']['position']}\")\n",
    "```\n",
    "\n",
    "*Side Note: Nesting dictionaries is particularly useful when dealing with structured data, such as information about employees, where each employee has multiple attributes.*"
   ]
  },
  {
   "cell_type": "code",
   "execution_count": 11,
   "id": "cf5b1d7b",
   "metadata": {
    "execution": {
     "iopub.execute_input": "2025-05-11T11:08:16.097617Z",
     "iopub.status.busy": "2025-05-11T11:08:16.097290Z",
     "iopub.status.idle": "2025-05-11T11:08:16.103170Z",
     "shell.execute_reply": "2025-05-11T11:08:16.102082Z"
    },
    "papermill": {
     "duration": 0.020176,
     "end_time": "2025-05-11T11:08:16.104786",
     "exception": false,
     "start_time": "2025-05-11T11:08:16.084610",
     "status": "completed"
    },
    "tags": []
   },
   "outputs": [
    {
     "name": "stdout",
     "output_type": "stream",
     "text": [
      "Irum's age: 23\n",
      "Mujtaba's updated position: Senior Manager\n"
     ]
    }
   ],
   "source": [
    "# Accessing Irum's age\n",
    "Irum_age = employee_data['Irum']['age']\n",
    "print(f\"Irum's age: {Irum_age}\")\n",
    "\n",
    "# Modifying Mujtaba's position\n",
    "employee_data['Mujtaba']['position'] = 'Senior Manager'\n",
    "print(f\"Mujtaba's updated position: {employee_data['Mujtaba']['position']}\")"
   ]
  },
  {
   "cell_type": "markdown",
   "id": "156b8fd2",
   "metadata": {
    "papermill": {
     "duration": 0.010037,
     "end_time": "2025-05-11T11:08:16.125414",
     "exception": false,
     "start_time": "2025-05-11T11:08:16.115377",
     "status": "completed"
    },
    "tags": []
   },
   "source": [
    "### 1.7 Practical Applications\n",
    "\n",
    "Dictionaries play a crucial role in various real-world scenarios, offering a flexible and efficient way to manage and organize data.\n",
    "\n",
    "#### Use Cases in Real-World Scenarios\n",
    "\n",
    "1. **Database Records:**\n",
    "   - Dictionaries can represent database records, where each key-value pair corresponds to a field and its value. For example, a user profile may include keys like 'username', 'email', and 'age'."
   ]
  },
  {
   "cell_type": "markdown",
   "id": "7157d75c",
   "metadata": {
    "papermill": {
     "duration": 0.010671,
     "end_time": "2025-05-11T11:08:16.146501",
     "exception": false,
     "start_time": "2025-05-11T11:08:16.135830",
     "status": "completed"
    },
    "tags": []
   },
   "source": [
    "2. **Configuration Settings:**\n",
    "   - Dictionaries are often used to store configuration settings for applications. Keys can represent different settings, and values hold the corresponding configurations.\n",
    "\n",
    "3. **Data Analysis:**\n",
    "   - In data analysis, dictionaries are useful for storing and manipulating data. For instance, a dictionary could hold information about sales figures, with product names as keys and sales amounts as values.\n",
    "\n",
    "4. **API Responses:**\n",
    "   - When working with APIs, responses are often in the form of dictionaries. Keys represent different attributes, and values contain the corresponding data."
   ]
  },
  {
   "cell_type": "markdown",
   "id": "3c04ed25",
   "metadata": {
    "papermill": {
     "duration": 0.010216,
     "end_time": "2025-05-11T11:08:16.167036",
     "exception": false,
     "start_time": "2025-05-11T11:08:16.156820",
     "status": "completed"
    },
    "tags": []
   },
   "source": [
    "#### Efficiency and Flexibility of Dictionaries\n",
    "\n",
    "- Dictionaries provide quick and direct access to values through keys, making them efficient for tasks such as data retrieval and modification. Their flexibility in handling various data types and structures makes them a versatile choice for developers.\n",
    "\n",
    "**Example:**\n",
    "```python\n",
    "# Example of a dictionary representing a user profile\n",
    "user_profile = {\n",
    "    'username': 'Mujtaba ALi',\n",
    "    'email': 'Mujtaba@example.com',\n",
    "    'age': 26,\n",
    "    'is_admin': False\n",
    "}\n",
    "```\n",
    "\n",
    "*Side Note: Understanding the practical applications of dictionaries enhances a programmer's ability to design efficient and structured solutions.*"
   ]
  },
  {
   "cell_type": "markdown",
   "id": "2bbb73c7",
   "metadata": {
    "papermill": {
     "duration": 0.01013,
     "end_time": "2025-05-11T11:08:16.187475",
     "exception": false,
     "start_time": "2025-05-11T11:08:16.177345",
     "status": "completed"
    },
    "tags": []
   },
   "source": [
    "*Reflection Questions:*\n",
    "1. What is the primary purpose of dictionaries in Python?\n",
    "   - a) Storing only numerical data\n",
    "   - b) Managing key-value pairs\n",
    "   - c) Sorting elements in ascending order\n",
    "   - d) Performing mathematical operations\n",
    "\n",
    "<details>\n",
    "<summary>Click to reveal the answer:</summary>\n",
    "b) Managing key-value pairs"
   ]
  },
  {
   "cell_type": "markdown",
   "id": "67a663ef",
   "metadata": {
    "execution": {
     "iopub.execute_input": "2025-05-01T09:37:33.682299Z",
     "iopub.status.busy": "2025-05-01T09:37:33.681949Z",
     "iopub.status.idle": "2025-05-01T09:37:33.694697Z",
     "shell.execute_reply": "2025-05-01T09:37:33.693444Z",
     "shell.execute_reply.started": "2025-05-01T09:37:33.682273Z"
    },
    "papermill": {
     "duration": 0.01004,
     "end_time": "2025-05-11T11:08:16.207849",
     "exception": false,
     "start_time": "2025-05-11T11:08:16.197809",
     "status": "completed"
    },
    "tags": []
   },
   "source": [
    "2. What is the fundamental difference between dictionaries and lists in Python?\n",
    "   - a) Lists use keys, dictionaries use indexes.\n",
    "   - b) Lists store values, dictionaries store pairs.\n",
    "   - c) Lists are mutable, dictionaries are immutable.\n",
    "   - d) Lists have a fixed size, dictionaries can grow dynamically.\n",
    "\n",
    "<details>\n",
    "<summary>Click to reveal the answer:</summary>\n",
    "b) Lists store values, dictionaries store pairs."
   ]
  },
  {
   "cell_type": "markdown",
   "id": "796082cc",
   "metadata": {
    "papermill": {
     "duration": 0.009998,
     "end_time": "2025-05-11T11:08:16.228171",
     "exception": false,
     "start_time": "2025-05-11T11:08:16.218173",
     "status": "completed"
    },
    "tags": []
   },
   "source": [
    "3. Why are dictionaries considered efficient for data retrieval?\n",
    "   - a) Values are stored in a sequential order.\n",
    "   - b) Elements can be accessed by index.\n",
    "   - c) Data is organized as key-value pairs.\n",
    "   - d) Dictionaries have a fixed size.\n",
    "\n",
    "<details>\n",
    "<summary>Click to reveal the answer:</summary>\n",
    "c) Data is organized as key-value pairs."
   ]
  },
  {
   "cell_type": "markdown",
   "id": "d39dacc4",
   "metadata": {
    "papermill": {
     "duration": 0.010686,
     "end_time": "2025-05-11T11:08:16.249196",
     "exception": false,
     "start_time": "2025-05-11T11:08:16.238510",
     "status": "completed"
    },
    "tags": []
   },
   "source": [
    "4. How would you describe a key in a dictionary?\n",
    "   - a) A value associated with a specific data type.\n",
    "   - b) An index indicating the position of an element.\n",
    "   - c) A unique identifier for a value.\n",
    "   - d) A numerical representation of data.\n",
    "\n",
    "<details>\n",
    "<summary>Click to reveal the answer:</summary>\n",
    "c) A unique identifier for a value."
   ]
  },
  {
   "cell_type": "markdown",
   "id": "504bb7ba",
   "metadata": {
    "papermill": {
     "duration": 0.010592,
     "end_time": "2025-05-11T11:08:16.270648",
     "exception": false,
     "start_time": "2025-05-11T11:08:16.260056",
     "status": "completed"
    },
    "tags": []
   },
   "source": [
    "5. What is the purpose of curly braces in the basic syntax of creating dictionaries?\n",
    "   - a) To indicate the type of data being stored.\n",
    "   - b) To create a block of code.\n",
    "   - c) To represent a set of key-value pairs.\n",
    "   - d) To define the scope of the dictionary.\n",
    "   \n",
    "   <details>\n",
    "<summary>Click to reveal the answer:</summary>\n",
    "c) To represent a set of key-value pairs."
   ]
  },
  {
   "cell_type": "markdown",
   "id": "7feb49b5",
   "metadata": {
    "papermill": {
     "duration": 0.010783,
     "end_time": "2025-05-11T11:08:16.291925",
     "exception": false,
     "start_time": "2025-05-11T11:08:16.281142",
     "status": "completed"
    },
    "tags": []
   },
   "source": [
    "6. In the example provided, what are the keys and values in the `ages` dictionary?\n",
    "   - a) Keys: 25, 16, 22; Values: 'Ali', 'Madiha', 'Irum'\n",
    "   - b) Keys: 'Ali', 'Madiha', 'Irum'; Values: 25, 16, 22\n",
    "   - c) Keys: 25, 'Madiha', 22; Values: 'Ali', 'Irum', 16\n",
    "   - d) Keys: 'Ali', 'Madiha', 'Irum'; Values: 25, 16, 22\n",
    "   \n",
    "<details>\n",
    "<summary>Click to reveal the answer:</summary>\n",
    "Keys: 'Ali', 'Madiha', 'Irum'; Values: 25, 16, 22"
   ]
  },
  {
   "cell_type": "markdown",
   "id": "a2d5da99",
   "metadata": {
    "papermill": {
     "duration": 0.01066,
     "end_time": "2025-05-11T11:08:16.313751",
     "exception": false,
     "start_time": "2025-05-11T11:08:16.303091",
     "status": "completed"
    },
    "tags": []
   },
   "source": [
    "7. Why is it important for keys to be unique within a dictionary?\n",
    "   - a) It simplifies the syntax of dictionary creation.\n",
    "   - b) It ensures efficient data retrieval.\n",
    "   - c) It allows for the use of duplicate keys.\n",
    "   - d) It is a convention but not a requirement.\n",
    "   \n",
    "<details>\n",
    "<summary>Click to reveal the answer:</summary>\n",
    "b) It ensures efficient data retrieval."
   ]
  },
  {
   "cell_type": "markdown",
   "id": "31c4cfde",
   "metadata": {
    "papermill": {
     "duration": 0.011322,
     "end_time": "2025-05-11T11:08:16.337494",
     "exception": false,
     "start_time": "2025-05-11T11:08:16.326172",
     "status": "completed"
    },
    "tags": []
   },
   "source": [
    "8. How is a specific value accessed in a dictionary using its key?\n",
    "   - a) By using the `value` method\n",
    "   - b) Using the `index()` function\n",
    "   - c) Through key-based indexing\n",
    "   - d) With the `find()` method\n",
    "   \n",
    "   <details>\n",
    "<summary>Click to reveal the answer:</summary>\n",
    "c) Through key-based indexing"
   ]
  },
  {
   "cell_type": "markdown",
   "id": "2d1e6e17",
   "metadata": {
    "papermill": {
     "duration": 0.010215,
     "end_time": "2025-05-11T11:08:16.359359",
     "exception": false,
     "start_time": "2025-05-11T11:08:16.349144",
     "status": "completed"
    },
    "tags": []
   },
   "source": [
    "9. In the example provided, how is Ali's age modified in the `ages` dictionary?\n",
    "   - a) `ages['Ali'] = 26`\n",
    "   - b) `ages.modify('Ali', 26)`\n",
    "   - c) `ages.update('Ali', 26)`\n",
    "   - d) `ages.set('Ali', 26)`\n",
    "   \n",
    "   <details>\n",
    "<summary>Click to reveal the answer:</summary>\n",
    "`ages['Ali'] = 26`"
   ]
  },
  {
   "cell_type": "markdown",
   "id": "3f0936f7",
   "metadata": {
    "papermill": {
     "duration": 0.01014,
     "end_time": "2025-05-11T11:08:16.380412",
     "exception": false,
     "start_time": "2025-05-11T11:08:16.370272",
     "status": "completed"
    },
    "tags": []
   },
   "source": [
    "10. How can you add a new key-value pair to an existing dictionary?\n",
    "   - a) Using the `append()` function\n",
    "   - b) Assigning a value to a new key\n",
    "   - c) Merging two dictionaries\n",
    "   - d) Creating a new dictionary and copying values\n",
    "   \n",
    "<details>\n",
    "<summary>Click to reveal the answer:</summary>\n",
    "b) Assigning a value to a new key"
   ]
  },
  {
   "cell_type": "markdown",
   "id": "fc810f32",
   "metadata": {
    "papermill": {
     "duration": 0.01026,
     "end_time": "2025-05-11T11:08:16.401071",
     "exception": false,
     "start_time": "2025-05-11T11:08:16.390811",
     "status": "completed"
    },
    "tags": []
   },
   "source": [
    "11. Which method is used to obtain a list of all keys in a dictionary?\n",
    "   - a) `keys()`\n",
    "   - b) `list()`\n",
    "   - c) `get()`\n",
    "   - d) `items()`\n",
    "\n",
    "<details>\n",
    "<summary>Click to reveal the answer:</summary>\n",
    "a) `keys()`"
   ]
  },
  {
   "cell_type": "markdown",
   "id": "0d2d4c37",
   "metadata": {
    "papermill": {
     "duration": 0.011166,
     "end_time": "2025-05-11T11:08:16.422626",
     "exception": false,
     "start_time": "2025-05-11T11:08:16.411460",
     "status": "completed"
    },
    "tags": []
   },
   "source": [
    "12. What is the purpose of the `keys()`, `values()`, and `items()` methods in dictionaries?\n",
    "   - a) To remove elements from the dictionary\n",
    "   - b) To retrieve views of keys, values, and key-value pairs\n",
    "   - c) To sort the dictionary in alphabetical order\n",
    "   - d) To modify the keys, values, and items in the dictionary\n",
    "\n",
    "<details>\n",
    "<summary>Click to reveal the answer:</summary>\n",
    "b) To retrieve views of keys, values, and key-value pairs"
   ]
  },
  {
   "cell_type": "markdown",
   "id": "fdaf1eac",
   "metadata": {
    "execution": {
     "iopub.execute_input": "2025-05-02T10:27:58.786554Z",
     "iopub.status.busy": "2025-05-02T10:27:58.786198Z",
     "iopub.status.idle": "2025-05-02T10:27:58.794553Z",
     "shell.execute_reply": "2025-05-02T10:27:58.792784Z",
     "shell.execute_reply.started": "2025-05-02T10:27:58.786530Z"
    },
    "papermill": {
     "duration": 0.011045,
     "end_time": "2025-05-11T11:08:16.444653",
     "exception": false,
     "start_time": "2025-05-11T11:08:16.433608",
     "status": "completed"
    },
    "tags": []
   },
   "source": [
    "13. In the example provided, what will be the output of `all_keys`?\n",
    "   - a) `[Ali, Madiha, Elya]`\n",
    "   - b) `['Ali', 'Madiha', 'Elya']`\n",
    "   - c) `(Ali, Madiha, Elya)`\n",
    "   - d) `{Ali, Madiha, Elya}`\n",
    "\n",
    "<details>\n",
    "<summary>Click to reveal the answer:</summary>\n",
    "b) `['Ali', 'Madiha', 'Elya']`"
   ]
  },
  {
   "cell_type": "markdown",
   "id": "09d0106b",
   "metadata": {
    "papermill": {
     "duration": 0.01065,
     "end_time": "2025-05-11T11:08:16.465994",
     "exception": false,
     "start_time": "2025-05-11T11:08:16.455344",
     "status": "completed"
    },
    "tags": []
   },
   "source": [
    "14. When might you use the `get()` method instead of directly accessing a key in a dictionary?\n",
    "   - a) When you want to add a new key-value pair.\n",
    "   - b) When you want to retrieve a value safely without risking a KeyError.\n",
    "   - c) When you want to remove a key from the dictionary.\n",
    "   - d) When you want to reverse the order of keys in the dictionary.\n",
    "\n",
    "<details>\n",
    "<summary>Click to reveal the answer:</summary>\n",
    "b) When you want to retrieve a value safely without risking a KeyError."
   ]
  },
  {
   "cell_type": "markdown",
   "id": "7f20ceeb",
   "metadata": {
    "papermill": {
     "duration": 0.011295,
     "end_time": "2025-05-11T11:08:16.489311",
     "exception": false,
     "start_time": "2025-05-11T11:08:16.478016",
     "status": "completed"
    },
    "tags": []
   },
   "source": [
    "15. In the provided example, what does the `for key in ages` loop achieve?\n",
    "   - a) Iterates through values in the dictionary\n",
    "   - b) Iterates through keys in the dictionary\n",
    "   - c) Iterates through key-value pairs in the dictionary\n",
    "   - d) Creates a new dictionary with keys as values and vice versa\n",
    "\n",
    "<details>\n",
    "<summary>Click to reveal the answer:</summary>\n",
    "b) Iterates through keys in the dictionary"
   ]
  },
  {
   "cell_type": "markdown",
   "id": "6b87f866",
   "metadata": {
    "papermill": {
     "duration": 0.0126,
     "end_time": "2025-05-11T11:08:16.513535",
     "exception": false,
     "start_time": "2025-05-11T11:08:16.500935",
     "status": "completed"
    },
    "tags": []
   },
   "source": [
    "16. Why is the order of iteration not guaranteed to be the same as the order of items inserted into the dictionary?\n",
    "   - a) Dictionaries automatically randomize their order for efficiency.\n",
    "   - b) Python dictionaries use hash tables for efficient key lookup.\n",
    "   - c) Iteration order is determined by the size of the dictionary.\n",
    "   - d) It is guaranteed, and the statement is incorrect.\n",
    "\n",
    "<details>\n",
    "<summary>Click to reveal the answer:</summary>\n",
    "b) Python dictionaries use hash tables for efficient key lookup."
   ]
  },
  {
   "cell_type": "markdown",
   "id": "1cc29942",
   "metadata": {
    "papermill": {
     "duration": 0.01099,
     "end_time": "2025-05-11T11:08:16.535275",
     "exception": false,
     "start_time": "2025-05-11T11:08:16.524285",
     "status": "completed"
    },
    "tags": []
   },
   "source": [
    "17. What is a nested dictionary, and how does it differ from a regular dictionary?\n",
    "   - a) A dictionary with duplicated keys; it differs in syntax.\n",
    "   - b) A dictionary with only one key-value pair; it differs in size.\n",
    "   - c) A dictionary that is a value within another dictionary; it allows for more complex data structures.\n",
    "   - d) A dictionary that automatically sorts its keys; it differs in sorting behavior.\n",
    "\n",
    "<details>\n",
    "<summary>Click to reveal the answer:</summary>\n",
    "c) A dictionary that is a value within another dictionary; it allows for more complex data structures."
   ]
  },
  {
   "cell_type": "markdown",
   "id": "818beff9",
   "metadata": {
    "papermill": {
     "duration": 0.011033,
     "end_time": "2025-05-11T11:08:16.557383",
     "exception": false,
     "start_time": "2025-05-11T11:08:16.546350",
     "status": "completed"
    },
    "tags": []
   },
   "source": [
    "18. In the provided example, how would you access Ali's position in the `employee_data` dictionary?\n",
    "   - a) `employee_data['position']['Ali']`\n",
    "   - b) `employee_data['ALi']['position']`\n",
    "   - c) `employee_data['ALi'].position`\n",
    "   - d) `employee_data['position'].Ali`\n",
    "\n",
    "<details>\n",
    "<summary>Click to reveal the answer:</summary>\n",
    "b) `employee_data['Ali']['position']`"
   ]
  },
  {
   "cell_type": "markdown",
   "id": "017c9ac6",
   "metadata": {
    "papermill": {
     "duration": 0.011231,
     "end_time": "2025-05-11T11:08:16.579704",
     "exception": false,
     "start_time": "2025-05-11T11:08:16.568473",
     "status": "completed"
    },
    "tags": []
   },
   "source": [
    "19. In the context of practical applications, why might dictionaries be preferred over other data structures?\n",
    "   - a) Dictionaries provide quick and direct access to values through keys.\n",
    "   - b) Other data structures do not support key-value pairs.\n",
    "   - c) Dictionaries have a fixed size, ensuring better memory management.\n",
    "   - d) Other data structures are not as flexible in handling various data types.\n",
    "\n",
    "<details>\n",
    "<summary>Click to reveal the answer:</summary>\n",
    "a) Dictionaries provide quick and direct access to values through keys."
   ]
  },
  {
   "cell_type": "markdown",
   "id": "eee58e67",
   "metadata": {
    "papermill": {
     "duration": 0.010232,
     "end_time": "2025-05-11T11:08:16.600601",
     "exception": false,
     "start_time": "2025-05-11T11:08:16.590369",
     "status": "completed"
    },
    "tags": []
   },
   "source": [
    "20. When might a nested dictionary be beneficial in a real-world scenario?\n",
    "   - a) When dealing with a small amount of structured data.\n",
    "   - b) When the data is unorganized and not hierarchical.\n",
    "   - c) When representing complex structures with nested attributes or categories.\n",
    "   - d) Nested dictionaries are never beneficial in real-world scenarios.\n",
    "\n",
    "<details>\n",
    "<summary>Click to reveal the answer:</summary>\n",
    "c) When representing complex structures with nested attributes or categories."
   ]
  },
  {
   "cell_type": "markdown",
   "id": "8fb8ea9f",
   "metadata": {
    "papermill": {
     "duration": 0.011241,
     "end_time": "2025-05-11T11:08:16.624787",
     "exception": false,
     "start_time": "2025-05-11T11:08:16.613546",
     "status": "completed"
    },
    "tags": []
   },
   "source": [
    "## **Exercises**\n",
    "\n",
    "Extend your understanding of dictionaries by solving the following exercises. These exercises are designed to challenge your problem-solving skills and creativity.\n",
    "\n",
    "#### Problem Solving with Dictionaries\n",
    "\n",
    "#### Q.1: **Word Frequency Counter:**\n",
    "   - Create a function `word_frequency(text)` that takes a string of text as input and returns a dictionary where keys are unique words, and values are the frequency of each word in the text. Ignore case sensitivity."
   ]
  },
  {
   "cell_type": "code",
   "execution_count": 12,
   "id": "474ab963",
   "metadata": {
    "execution": {
     "iopub.execute_input": "2025-05-11T11:08:16.647867Z",
     "iopub.status.busy": "2025-05-11T11:08:16.647553Z",
     "iopub.status.idle": "2025-05-11T11:08:16.653771Z",
     "shell.execute_reply": "2025-05-11T11:08:16.652762Z"
    },
    "papermill": {
     "duration": 0.019712,
     "end_time": "2025-05-11T11:08:16.655079",
     "exception": false,
     "start_time": "2025-05-11T11:08:16.635367",
     "status": "completed"
    },
    "tags": []
   },
   "outputs": [
    {
     "name": "stdout",
     "output_type": "stream",
     "text": [
      "{'hello': 2, 'world': 1, 'again': 1, 'this': 2, 'is': 2, 'a': 2, 'test': 2}\n"
     ]
    }
   ],
   "source": [
    "# Word Frequency Counter\n",
    "def word_frequency(text):\n",
    "    word_count = {}\n",
    "    words = text.lower().split()\n",
    "    \n",
    "    for word in words:\n",
    "        # Remove punctuation from each word\n",
    "        word = word.strip(\".,!?\")\n",
    "        word_count[word] = word_count.get(word, 0) + 1\n",
    "\n",
    "    return word_count\n",
    "\n",
    "sample_text = \"Hello, world! Hello again. This is a test. A test, this is.\"\n",
    "print(word_frequency(sample_text))"
   ]
  },
  {
   "cell_type": "markdown",
   "id": "ea809981",
   "metadata": {
    "papermill": {
     "duration": 0.010108,
     "end_time": "2025-05-11T11:08:16.675746",
     "exception": false,
     "start_time": "2025-05-11T11:08:16.665638",
     "status": "completed"
    },
    "tags": []
   },
   "source": [
    "#### Q.2: **Voting System:**\n",
    "   - Create a function `voting_system(votes)` that takes a list of votes as input and returns a dictionary showing the count of each candidate's votes. Each candidate is represented by a string."
   ]
  },
  {
   "cell_type": "code",
   "execution_count": 13,
   "id": "d18b0ef8",
   "metadata": {
    "execution": {
     "iopub.execute_input": "2025-05-11T11:08:16.697965Z",
     "iopub.status.busy": "2025-05-11T11:08:16.697570Z",
     "iopub.status.idle": "2025-05-11T11:08:16.703556Z",
     "shell.execute_reply": "2025-05-11T11:08:16.702579Z"
    },
    "papermill": {
     "duration": 0.018843,
     "end_time": "2025-05-11T11:08:16.705077",
     "exception": false,
     "start_time": "2025-05-11T11:08:16.686234",
     "status": "completed"
    },
    "tags": []
   },
   "outputs": [
    {
     "name": "stdout",
     "output_type": "stream",
     "text": [
      "{'Ali': 2, 'Madiha': 3, 'Irum': 1}\n"
     ]
    }
   ],
   "source": [
    "def voting_system(votes):\n",
    "    vote_count = {}\n",
    "    for candidate in votes:\n",
    "        vote_count[candidate] = vote_count.get(candidate, 0) + 1\n",
    "    return vote_count\n",
    "\n",
    "# Example\n",
    "votes = ['Ali', 'Madiha', 'Ali', 'Irum', 'Madiha', 'Madiha']\n",
    "print(voting_system(votes))"
   ]
  },
  {
   "cell_type": "markdown",
   "id": "92813feb",
   "metadata": {
    "papermill": {
     "duration": 0.01072,
     "end_time": "2025-05-11T11:08:16.726792",
     "exception": false,
     "start_time": "2025-05-11T11:08:16.716072",
     "status": "completed"
    },
    "tags": []
   },
   "source": [
    "#### Applying Nested Dictionaries\n",
    "\n",
    "#### Q.3: **Student Grades:**\n",
    "   - Create a nested dictionary to store grades of students. The outer dictionary should have student names as keys, and the inner dictionary should have subjects as keys and corresponding grades as values."
   ]
  },
  {
   "cell_type": "code",
   "execution_count": 14,
   "id": "3f3d3633",
   "metadata": {
    "execution": {
     "iopub.execute_input": "2025-05-11T11:08:16.750306Z",
     "iopub.status.busy": "2025-05-11T11:08:16.749970Z",
     "iopub.status.idle": "2025-05-11T11:08:16.755236Z",
     "shell.execute_reply": "2025-05-11T11:08:16.754195Z"
    },
    "papermill": {
     "duration": 0.019108,
     "end_time": "2025-05-11T11:08:16.756708",
     "exception": false,
     "start_time": "2025-05-11T11:08:16.737600",
     "status": "completed"
    },
    "tags": []
   },
   "outputs": [
    {
     "name": "stdout",
     "output_type": "stream",
     "text": [
      "Madiha's Science grade: 95\n"
     ]
    }
   ],
   "source": [
    "# Exercise 3: Student Grades\n",
    "student_grades = {\n",
    "    'Ali': {'Math': 90, 'English': 85, 'Science': 92},\n",
    "    'Madiha': {'Math': 78, 'English': 88, 'Science': 95},\n",
    "    'Irum': {'Math': 92, 'English': 80, 'Science': 89}\n",
    "}\n",
    "\n",
    "# Example: Access Madiha's Science grade\n",
    "print(\"Madiha's Science grade:\", student_grades['Madiha']['Science'])"
   ]
  },
  {
   "cell_type": "markdown",
   "id": "abbd548a",
   "metadata": {
    "papermill": {
     "duration": 0.010431,
     "end_time": "2025-05-11T11:08:16.778114",
     "exception": false,
     "start_time": "2025-05-11T11:08:16.767683",
     "status": "completed"
    },
    "tags": []
   },
   "source": [
    "#### Q.4: **Inventory Management:**\n",
    "   - Implement a simple inventory management system using nested dictionaries. The outer dictionary represents different products, and the inner dictionary includes information like quantity and price."
   ]
  },
  {
   "cell_type": "code",
   "execution_count": 15,
   "id": "02d93730",
   "metadata": {
    "execution": {
     "iopub.execute_input": "2025-05-11T11:08:16.801277Z",
     "iopub.status.busy": "2025-05-11T11:08:16.800960Z",
     "iopub.status.idle": "2025-05-11T11:08:16.806880Z",
     "shell.execute_reply": "2025-05-11T11:08:16.805778Z"
    },
    "papermill": {
     "duration": 0.01954,
     "end_time": "2025-05-11T11:08:16.808687",
     "exception": false,
     "start_time": "2025-05-11T11:08:16.789147",
     "status": "completed"
    },
    "tags": []
   },
   "outputs": [
    {
     "name": "stdout",
     "output_type": "stream",
     "text": [
      "{'apple': {'quantity': 90, 'price': 1.5}, 'banana': {'quantity': 50, 'price': 0.75}, 'orange': {'quantity': 75, 'price': 2.0}}\n"
     ]
    }
   ],
   "source": [
    "# Exercise 4: Inventory Management\n",
    "inventory = {\n",
    "    'apple': {'quantity': 100, 'price': 1.50},\n",
    "    'banana': {'quantity': 50, 'price': 0.75},\n",
    "    'orange': {'quantity': 75, 'price': 2.00}\n",
    "}\n",
    "\n",
    "# Example: Sell 10 apples\n",
    "inventory['apple']['quantity'] -= 10\n",
    "\n",
    "# Print updated inventory\n",
    "print(inventory)"
   ]
  },
  {
   "cell_type": "markdown",
   "id": "4a1bf846",
   "metadata": {
    "papermill": {
     "duration": 0.011417,
     "end_time": "2025-05-11T11:08:16.830976",
     "exception": false,
     "start_time": "2025-05-11T11:08:16.819559",
     "status": "completed"
    },
    "tags": []
   },
   "source": [
    "### Q.5: **Project**\n",
    "\n",
    "Now, let's apply your knowledge of dictionaries to a small project. The goal is to build a dictionary-based application that simulates a simple contact management system.\n",
    "\n",
    "#### Building a Dictionary-Based Contact Management System\n",
    "\n",
    "#### 1. **Initialize the Contact Dictionary:**\n",
    "   - Start by creating an empty dictionary named `contacts` to store contact information.\n",
    "\n",
    "```python\n",
    "# Project Step 1: Initialize the Contact Dictionary\n",
    "contacts = {}\n",
    "```"
   ]
  },
  {
   "cell_type": "code",
   "execution_count": 16,
   "id": "d29a5169",
   "metadata": {
    "execution": {
     "iopub.execute_input": "2025-05-11T11:08:16.854788Z",
     "iopub.status.busy": "2025-05-11T11:08:16.854506Z",
     "iopub.status.idle": "2025-05-11T11:08:16.859642Z",
     "shell.execute_reply": "2025-05-11T11:08:16.858551Z"
    },
    "papermill": {
     "duration": 0.019275,
     "end_time": "2025-05-11T11:08:16.861542",
     "exception": false,
     "start_time": "2025-05-11T11:08:16.842267",
     "status": "completed"
    },
    "tags": []
   },
   "outputs": [
    {
     "name": "stdout",
     "output_type": "stream",
     "text": [
      "Contact management system initialized.\n"
     ]
    }
   ],
   "source": [
    "# Project Step 1: Initialize the Contact Dictionary\n",
    "contacts = {}\n",
    "\n",
    "# Example structure to add a contact:\n",
    "# contacts['Mujtaba Ali'] = {'phone': '123-456-7890', 'email': 'mujtaba@example.com'}\n",
    "\n",
    "print(\"Contact management system initialized.\")\n"
   ]
  },
  {
   "cell_type": "markdown",
   "id": "929f3b4b",
   "metadata": {
    "papermill": {
     "duration": 0.010695,
     "end_time": "2025-05-11T11:08:16.884431",
     "exception": false,
     "start_time": "2025-05-11T11:08:16.873736",
     "status": "completed"
    },
    "tags": []
   },
   "source": [
    "#### 2. **Add Contacts:**\n",
    "   - Create a function `add_contact(name, phone, email)` that takes a name, phone number, and email address as parameters and adds a new contact to the `contacts` dictionary. The contact's name should be the key, and the value should be a dictionary containing phone and email."
   ]
  },
  {
   "cell_type": "code",
   "execution_count": 17,
   "id": "7d9bbb60",
   "metadata": {
    "execution": {
     "iopub.execute_input": "2025-05-11T11:08:16.907473Z",
     "iopub.status.busy": "2025-05-11T11:08:16.907157Z",
     "iopub.status.idle": "2025-05-11T11:08:16.913087Z",
     "shell.execute_reply": "2025-05-11T11:08:16.911974Z"
    },
    "papermill": {
     "duration": 0.019489,
     "end_time": "2025-05-11T11:08:16.914769",
     "exception": false,
     "start_time": "2025-05-11T11:08:16.895280",
     "status": "completed"
    },
    "tags": []
   },
   "outputs": [
    {
     "name": "stdout",
     "output_type": "stream",
     "text": [
      "{'Mujtaba': {'phone': '123-456-7890', 'email': 'mujtaba@email.com'}, 'Madiha': {'phone': '987-654-3210', 'email': 'madiha@email.com'}}\n"
     ]
    }
   ],
   "source": [
    "# Project Step 1: Initialize the Contact Dictionary\n",
    "contacts = {}\n",
    "\n",
    "# Project Step 2: Add Contacts\n",
    "def add_contact(name, phone, email):\n",
    "    contacts[name] = {'phone': phone, 'email': email}\n",
    "\n",
    "# Example Usage\n",
    "add_contact('Mujtaba', '123-456-7890', 'mujtaba@email.com')\n",
    "add_contact('Madiha', '987-654-3210', 'madiha@email.com')\n",
    "\n",
    "# Display contacts\n",
    "print(contacts)"
   ]
  },
  {
   "cell_type": "markdown",
   "id": "07fad115",
   "metadata": {
    "papermill": {
     "duration": 0.010534,
     "end_time": "2025-05-11T11:08:16.936408",
     "exception": false,
     "start_time": "2025-05-11T11:08:16.925874",
     "status": "completed"
    },
    "tags": []
   },
   "source": [
    "#### 3. **Retrieve Contact Information:**\n",
    "   - Create a function `get_contact_info(name)` that takes a contact's name as a parameter and returns their phone number and email address. If the contact does not exist, return a message indicating that the contact is not found."
   ]
  },
  {
   "cell_type": "code",
   "execution_count": 18,
   "id": "32e9a012",
   "metadata": {
    "execution": {
     "iopub.execute_input": "2025-05-11T11:08:16.960037Z",
     "iopub.status.busy": "2025-05-11T11:08:16.959130Z",
     "iopub.status.idle": "2025-05-11T11:08:16.965511Z",
     "shell.execute_reply": "2025-05-11T11:08:16.964187Z"
    },
    "papermill": {
     "duration": 0.019863,
     "end_time": "2025-05-11T11:08:16.967089",
     "exception": false,
     "start_time": "2025-05-11T11:08:16.947226",
     "status": "completed"
    },
    "tags": []
   },
   "outputs": [
    {
     "name": "stdout",
     "output_type": "stream",
     "text": [
      "Phone: 123-456-7890, Email: mujtaba@email.com\n",
      "Phone: 987-654-3210, Email: madiha@email.com\n"
     ]
    }
   ],
   "source": [
    "# Project Step 3: Retrieve Contact Information\n",
    "def get_contact_info(name):\n",
    "    contact_info = contacts.get(name)\n",
    "    if contact_info:\n",
    "        return f\"Phone: {contact_info['phone']}, Email: {contact_info['email']}\"\n",
    "    else:\n",
    "        return f\"Contact '{name}' not found.\"\n",
    "\n",
    "# Example Usage\n",
    "print(get_contact_info('Mujtaba'))    # Should return Mujtaba's contact info\n",
    "print(get_contact_info('Madiha'))  # Should indicate not found\n"
   ]
  },
  {
   "cell_type": "markdown",
   "id": "594e3c62",
   "metadata": {
    "papermill": {
     "duration": 0.010893,
     "end_time": "2025-05-11T11:08:16.988941",
     "exception": false,
     "start_time": "2025-05-11T11:08:16.978048",
     "status": "completed"
    },
    "tags": []
   },
   "source": [
    "#### 4. **Update Contact Information:**\n",
    "   - Create a function `update_contact(name, new_phone, new_email)` that updates the phone number and email address for an existing contact. If the contact does not exist, return a message indicating that the contact is not found."
   ]
  },
  {
   "cell_type": "code",
   "execution_count": 19,
   "id": "f26e94e3",
   "metadata": {
    "execution": {
     "iopub.execute_input": "2025-05-11T11:08:17.012423Z",
     "iopub.status.busy": "2025-05-11T11:08:17.011993Z",
     "iopub.status.idle": "2025-05-11T11:08:17.018413Z",
     "shell.execute_reply": "2025-05-11T11:08:17.017295Z"
    },
    "papermill": {
     "duration": 0.021209,
     "end_time": "2025-05-11T11:08:17.020954",
     "exception": false,
     "start_time": "2025-05-11T11:08:16.999745",
     "status": "completed"
    },
    "tags": []
   },
   "outputs": [
    {
     "name": "stdout",
     "output_type": "stream",
     "text": [
      "Contact 'Mujtaba' updated successfully.\n",
      "Contact 'Madiha' updated successfully.\n"
     ]
    }
   ],
   "source": [
    "# Project Step 4: Update Contact Information\n",
    "def update_contact(name, new_phone, new_email):\n",
    "    if name in contacts:\n",
    "        contacts[name]['phone'] = new_phone\n",
    "        contacts[name]['email'] = new_email\n",
    "        return f\"Contact '{name}' updated successfully.\"\n",
    "    else:\n",
    "        return f\"Contact '{name}' not found.\"\n",
    "\n",
    "# Example Usage\n",
    "print(update_contact('Mujtaba', '555-123-4567', 'newmujtaba@email.com'))  # Should update\n",
    "print(update_contact('Madiha', '111-222-3333', 'madiha@email.com'))  # Should show not found"
   ]
  },
  {
   "cell_type": "markdown",
   "id": "9465f026",
   "metadata": {
    "papermill": {
     "duration": 0.01131,
     "end_time": "2025-05-11T11:08:17.045047",
     "exception": false,
     "start_time": "2025-05-11T11:08:17.033737",
     "status": "completed"
    },
    "tags": []
   },
   "source": [
    "#### **Q.6: Very Easy Problems:**\n",
    "\n",
    "**Simple Contact Addition**\n",
    "   - Write a function `add_contact_simple(name)` that takes a name as a parameter and adds a new contact to the dictionary `contacts` with only the name as the key. The contact should have a placeholder dictionary as its value."
   ]
  },
  {
   "cell_type": "code",
   "execution_count": 20,
   "id": "7f9120aa",
   "metadata": {
    "execution": {
     "iopub.execute_input": "2025-05-11T11:08:17.072685Z",
     "iopub.status.busy": "2025-05-11T11:08:17.072348Z",
     "iopub.status.idle": "2025-05-11T11:08:17.079956Z",
     "shell.execute_reply": "2025-05-11T11:08:17.078785Z"
    },
    "papermill": {
     "duration": 0.024194,
     "end_time": "2025-05-11T11:08:17.081941",
     "exception": false,
     "start_time": "2025-05-11T11:08:17.057747",
     "status": "completed"
    },
    "tags": []
   },
   "outputs": [
    {
     "name": "stdout",
     "output_type": "stream",
     "text": [
      "{'Mujtaba': {}}\n"
     ]
    }
   ],
   "source": [
    "# Initialize the Contact Dictionary\n",
    "contacts = {}\n",
    "\n",
    "# Function to add a simple contact (only name as the key)\n",
    "def add_contact_simple(name):\n",
    "    contacts[name] = {}\n",
    "\n",
    "# Example Usage\n",
    "add_contact_simple('Mujtaba')\n",
    "print(contacts)"
   ]
  },
  {
   "cell_type": "markdown",
   "id": "487f670e",
   "metadata": {
    "papermill": {
     "duration": 0.010708,
     "end_time": "2025-05-11T11:08:17.104313",
     "exception": false,
     "start_time": "2025-05-11T11:08:17.093605",
     "status": "completed"
    },
    "tags": []
   },
   "source": [
    "#### Q.7: **Retrieve Contact Information (Very Easy)**\n",
    "   - Write a function `get_contact_info_simple(name)` that takes a contact's name as a parameter and returns their information from the `contacts` dictionary. If the contact does not exist, return a message indicating that the contact is not found."
   ]
  },
  {
   "cell_type": "code",
   "execution_count": 21,
   "id": "296588c5",
   "metadata": {
    "execution": {
     "iopub.execute_input": "2025-05-11T11:08:17.128282Z",
     "iopub.status.busy": "2025-05-11T11:08:17.127966Z",
     "iopub.status.idle": "2025-05-11T11:08:17.132991Z",
     "shell.execute_reply": "2025-05-11T11:08:17.132074Z"
    },
    "papermill": {
     "duration": 0.019059,
     "end_time": "2025-05-11T11:08:17.134468",
     "exception": false,
     "start_time": "2025-05-11T11:08:17.115409",
     "status": "completed"
    },
    "tags": []
   },
   "outputs": [
    {
     "name": "stdout",
     "output_type": "stream",
     "text": [
      "Contact 'Mujtaba' not found.\n"
     ]
    }
   ],
   "source": [
    "# Function to retrieve contact information (simple version)\n",
    "def get_contact_info_simple(name):\n",
    "    contact_info = contacts.get(name)\n",
    "    if contact_info:\n",
    "        return contact_info\n",
    "    else:\n",
    "        return f\"Contact '{name}' not found.\"\n",
    "\n",
    "# Example Usage\n",
    "print(get_contact_info_simple('Mujtaba'))  # Output: 'Contact 'Mujtaba' not found.'"
   ]
  },
  {
   "cell_type": "markdown",
   "id": "716a41c1",
   "metadata": {
    "papermill": {
     "duration": 0.0113,
     "end_time": "2025-05-11T11:08:17.156999",
     "exception": false,
     "start_time": "2025-05-11T11:08:17.145699",
     "status": "completed"
    },
    "tags": []
   },
   "source": [
    "#### Q.8: **Contact Addition with Phone and Email**\n",
    "   - Enhance the `add_contact` function to take three parameters (`name`, `phone`, `email`) and add a new contact to the `contacts` dictionary with the provided phone and email."
   ]
  },
  {
   "cell_type": "code",
   "execution_count": 22,
   "id": "d79c9c71",
   "metadata": {
    "execution": {
     "iopub.execute_input": "2025-05-11T11:08:17.181540Z",
     "iopub.status.busy": "2025-05-11T11:08:17.181269Z",
     "iopub.status.idle": "2025-05-11T11:08:17.186628Z",
     "shell.execute_reply": "2025-05-11T11:08:17.185625Z"
    },
    "papermill": {
     "duration": 0.019416,
     "end_time": "2025-05-11T11:08:17.188170",
     "exception": false,
     "start_time": "2025-05-11T11:08:17.168754",
     "status": "completed"
    },
    "tags": []
   },
   "outputs": [
    {
     "name": "stdout",
     "output_type": "stream",
     "text": [
      "{'Madiha': {'phone': '555-123-4567', 'email': 'madiha@email.com'}}\n"
     ]
    }
   ],
   "source": [
    "# Initialize the Contact Dictionary\n",
    "contacts = {}\n",
    "\n",
    "# Function to add a contact with phone and email\n",
    "def add_contact(name, phone, email):\n",
    "    contacts[name] = {'phone': phone, 'email': email}\n",
    "\n",
    "# Example Usage\n",
    "add_contact('Madiha', '555-123-4567', 'madiha@email.com')\n",
    "print(contacts)  # Output: {'Madiha': {'phone': '555-123-4567', 'email': 'madiha@email.com'}}\n"
   ]
  },
  {
   "cell_type": "markdown",
   "id": "3c2cb817",
   "metadata": {
    "papermill": {
     "duration": 0.01137,
     "end_time": "2025-05-11T11:08:17.210773",
     "exception": false,
     "start_time": "2025-05-11T11:08:17.199403",
     "status": "completed"
    },
    "tags": []
   },
   "source": [
    "#### Q.9: **Updating Contact Information (Easy)**\n",
    "   - Write a function `update_contact_simple(name, new_phone, new_email)` that takes a contact's name, a new phone number, and a new email address as parameters. Update the contact's phone and email information in the `contacts` dictionary."
   ]
  },
  {
   "cell_type": "code",
   "execution_count": 23,
   "id": "3a035e4b",
   "metadata": {
    "execution": {
     "iopub.execute_input": "2025-05-11T11:08:17.234732Z",
     "iopub.status.busy": "2025-05-11T11:08:17.234426Z",
     "iopub.status.idle": "2025-05-11T11:08:17.240543Z",
     "shell.execute_reply": "2025-05-11T11:08:17.239289Z"
    },
    "papermill": {
     "duration": 0.01982,
     "end_time": "2025-05-11T11:08:17.242176",
     "exception": false,
     "start_time": "2025-05-11T11:08:17.222356",
     "status": "completed"
    },
    "tags": []
   },
   "outputs": [
    {
     "name": "stdout",
     "output_type": "stream",
     "text": [
      "{}\n"
     ]
    }
   ],
   "source": [
    "# Initialize the Contact Dictionary\n",
    "contacts = {}\n",
    "\n",
    "# Function to update contact's phone and email\n",
    "def update_contact_simple(name, new_phone, new_email):\n",
    "    if name in contacts:\n",
    "        contacts[name]['phone'] = new_phone\n",
    "        contacts[name]['email'] = new_email\n",
    "        return f\"Contact '{name}' updated successfully.\"\n",
    "    else:\n",
    "        return f\"Contact '{name}' not found.\"\n",
    "\n",
    "# Example Usage\n",
    "update_contact_simple('Madiha', '777-888-9999', 'madiha_new@email.com')\n",
    "print(contacts)  # Output: {'Madiha': {'phone': '777-888-9999', 'email': 'madiha_new@email.com'}}\n"
   ]
  },
  {
   "cell_type": "markdown",
   "id": "11956425",
   "metadata": {
    "papermill": {
     "duration": 0.011743,
     "end_time": "2025-05-11T11:08:17.265163",
     "exception": false,
     "start_time": "2025-05-11T11:08:17.253420",
     "status": "completed"
    },
    "tags": []
   },
   "source": [
    "#### Q.10: **Contact Information Retrieval with Default Message**\n",
    "   - Modify the `get_contact_info` function to take a second parameter (`default_msg`) and return the contact information along with the default message if the contact is not found."
   ]
  },
  {
   "cell_type": "code",
   "execution_count": 24,
   "id": "aa8b4647",
   "metadata": {
    "execution": {
     "iopub.execute_input": "2025-05-11T11:08:17.290356Z",
     "iopub.status.busy": "2025-05-11T11:08:17.290022Z",
     "iopub.status.idle": "2025-05-11T11:08:17.295424Z",
     "shell.execute_reply": "2025-05-11T11:08:17.294261Z"
    },
    "papermill": {
     "duration": 0.019939,
     "end_time": "2025-05-11T11:08:17.297194",
     "exception": false,
     "start_time": "2025-05-11T11:08:17.277255",
     "status": "completed"
    },
    "tags": []
   },
   "outputs": [
    {
     "name": "stdout",
     "output_type": "stream",
     "text": [
      "Contact not available.\n"
     ]
    }
   ],
   "source": [
    "# Initialize the Contact Dictionary\n",
    "contacts = {}\n",
    "\n",
    "# Function to retrieve contact information with a default message\n",
    "def get_contact_info(name, default_msg):\n",
    "    contact_info = contacts.get(name, default_msg)\n",
    "    return contact_info\n",
    "\n",
    "# Example Usage\n",
    "print(get_contact_info('Irum', 'Contact not available.'))  # Output: 'Contact not available.'"
   ]
  },
  {
   "cell_type": "markdown",
   "id": "cf498465",
   "metadata": {
    "papermill": {
     "duration": 0.013411,
     "end_time": "2025-05-11T11:08:17.322574",
     "exception": false,
     "start_time": "2025-05-11T11:08:17.309163",
     "status": "completed"
    },
    "tags": []
   },
   "source": [
    "#### Q.11: **Count Votes from a List**\n",
    "   - Write a function `count_votes(votes)` that takes a list of votes and returns a dictionary showing the count of each candidate's votes. Each candidate is represented by a string.\n"
   ]
  },
  {
   "cell_type": "code",
   "execution_count": 25,
   "id": "4b54dce0",
   "metadata": {
    "execution": {
     "iopub.execute_input": "2025-05-11T11:08:17.348373Z",
     "iopub.status.busy": "2025-05-11T11:08:17.347939Z",
     "iopub.status.idle": "2025-05-11T11:08:17.354074Z",
     "shell.execute_reply": "2025-05-11T11:08:17.352989Z"
    },
    "papermill": {
     "duration": 0.020905,
     "end_time": "2025-05-11T11:08:17.355550",
     "exception": false,
     "start_time": "2025-05-11T11:08:17.334645",
     "status": "completed"
    },
    "tags": []
   },
   "outputs": [
    {
     "name": "stdout",
     "output_type": "stream",
     "text": [
      "{'Mujtaba': 2, 'Madiha': 2, 'Irum': 1}\n"
     ]
    }
   ],
   "source": [
    "# Function to count votes\n",
    "def count_votes(votes):\n",
    "    vote_count = {}\n",
    "    for vote in votes:\n",
    "        vote_count[vote] = vote_count.get(vote, 0) + 1\n",
    "    return vote_count\n",
    "\n",
    "# Example Usage\n",
    "votes = ['Mujtaba', 'Madiha', 'Mujtaba', 'Irum', 'Madiha']\n",
    "print(count_votes(votes))  # Output: {'Mujtaba': 2, 'Madiha': 2, 'Irum': 1}"
   ]
  },
  {
   "cell_type": "markdown",
   "id": "96d759e2",
   "metadata": {
    "papermill": {
     "duration": 0.011626,
     "end_time": "2025-05-11T11:08:17.379058",
     "exception": false,
     "start_time": "2025-05-11T11:08:17.367432",
     "status": "completed"
    },
    "tags": []
   },
   "source": [
    "#### Q.12: **Word Frequency Counter with Exclusion**\n",
    "   - Extend the `word_frequency` function to exclude a list of words (`exclude_words`) from the word count. The function should take two parameters: the text and the list of words to exclude."
   ]
  },
  {
   "cell_type": "code",
   "execution_count": 26,
   "id": "dd2e0d9a",
   "metadata": {
    "execution": {
     "iopub.execute_input": "2025-05-11T11:08:17.404418Z",
     "iopub.status.busy": "2025-05-11T11:08:17.404081Z",
     "iopub.status.idle": "2025-05-11T11:08:17.411400Z",
     "shell.execute_reply": "2025-05-11T11:08:17.410442Z"
    },
    "papermill": {
     "duration": 0.021411,
     "end_time": "2025-05-11T11:08:17.413271",
     "exception": false,
     "start_time": "2025-05-11T11:08:17.391860",
     "status": "completed"
    },
    "tags": []
   },
   "outputs": [
    {
     "name": "stdout",
     "output_type": "stream",
     "text": [
      "{'quick': 1, 'brown': 1, 'fox': 1, 'jumps': 1, 'lazy': 1, 'dog': 1}\n"
     ]
    }
   ],
   "source": [
    "# Function to count word frequency excluding certain words\n",
    "def word_frequency_exclude(text, exclude_words):\n",
    "    word_count = {}\n",
    "    words = text.lower().split()\n",
    "    \n",
    "    for word in words:\n",
    "        word = word.strip(\".,!?\")  # Remove punctuation\n",
    "        \n",
    "        if word not in exclude_words:  # Exclude the words in the list\n",
    "            word_count[word] = word_count.get(word, 0) + 1\n",
    "    \n",
    "    return word_count\n",
    "\n",
    "# Example Usage\n",
    "text = 'The quick brown fox jumps over the lazy dog.'\n",
    "exclude_words = ['the', 'over']\n",
    "print(word_frequency_exclude(text, exclude_words))"
   ]
  },
  {
   "cell_type": "markdown",
   "id": "faa6b114",
   "metadata": {
    "papermill": {
     "duration": 0.011627,
     "end_time": "2025-05-11T11:08:17.436405",
     "exception": false,
     "start_time": "2025-05-11T11:08:17.424778",
     "status": "completed"
    },
    "tags": []
   },
   "source": [
    "## Summary of List Methods\n",
    "\n",
    "\n",
    "    \n",
    "| Method                  | Purpose                                                    | Example Use                                           |\n",
    "|:-------------------------|:------------------------------------------------------------|:-------------------------------------------------------|\n",
    "| `dict.keys()`            | Returns a view of dictionary keys.                         | `my_dict = {'a': 1, 'b': 2}`<br>`keys = my_dict.keys()` |\n",
    "| `dict.values()`          | Returns a view of dictionary values.                       | `my_dict = {'a': 1, 'b': 2}`<br>`values = my_dict.values()` |\n",
    "| `dict.items()`           | Returns a view of dictionary key-value pairs.             | `my_dict = {'a': 1, 'b': 2}`<br>`items = my_dict.items()` |\n",
    "| `dict.get(key, default)` | Returns the value for the given key, or a default value if the key is not present. | `my_dict = {'a': 1, 'b': 2}`<br>`value = my_dict.get('a', 0)` |\n",
    "| `dict.pop(key, default)` | Removes and returns the value for the given key, or a default value if the key is not present. | `my_dict = {'a': 1, 'b': 2}`<br>`value = my_dict.pop('a', 0)` |\n",
    "| `dict.update(iterable)`  | Updates the dictionary with elements from another iterable or dictionary. | `my_dict = {'a': 1, 'b': 2}`<br>`my_dict.update({'c': 3, 'd': 4})` |\n",
    "| `dict.clear()`           | Removes all items from the dictionary.                     | `my_dict = {'a': 1, 'b': 2}`<br>`my_dict.clear()`       |\n",
    "\n",
    "\n",
    "*Note: The examples assume the existence of a dictionary named `my_dict`. Adjust the dictionary name and values as needed for specific use cases.*"
   ]
  }
 ],
 "metadata": {
  "kaggle": {
   "accelerator": "none",
   "dataSources": [],
   "dockerImageVersionId": 31012,
   "isGpuEnabled": false,
   "isInternetEnabled": true,
   "language": "python",
   "sourceType": "notebook"
  },
  "kernelspec": {
   "display_name": "Python 3",
   "language": "python",
   "name": "python3"
  },
  "language_info": {
   "codemirror_mode": {
    "name": "ipython",
    "version": 3
   },
   "file_extension": ".py",
   "mimetype": "text/x-python",
   "name": "python",
   "nbconvert_exporter": "python",
   "pygments_lexer": "ipython3",
   "version": "3.11.11"
  },
  "papermill": {
   "default_parameters": {},
   "duration": 7.577112,
   "end_time": "2025-05-11T11:08:17.867090",
   "environment_variables": {},
   "exception": null,
   "input_path": "__notebook__.ipynb",
   "output_path": "__notebook__.ipynb",
   "parameters": {},
   "start_time": "2025-05-11T11:08:10.289978",
   "version": "2.6.0"
  }
 },
 "nbformat": 4,
 "nbformat_minor": 5
}
