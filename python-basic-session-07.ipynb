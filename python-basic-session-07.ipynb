{
 "cells": [
  {
   "cell_type": "markdown",
   "id": "278a8bae",
   "metadata": {
    "_cell_guid": "b1076dfc-b9ad-4769-8c92-a6c4dae69d19",
    "_uuid": "8f2839f25d086af736a60e9eeb907d3b93b6e0e5",
    "papermill": {
     "duration": 0.00753,
     "end_time": "2025-05-02T10:55:22.408772",
     "exception": false,
     "start_time": "2025-05-02T10:55:22.401242",
     "status": "completed"
    },
    "tags": []
   },
   "source": [
    "## **Dictionaries**\n",
    "\n",
    "### **1.1 Introduction to Dictionaries**\n",
    "\n",
    "In Python, a **dictionary** is a versatile and mutable data structure used to store and organize data in the form of **key-value pairs**. Unlike lists and tuples, where elements are accessed by their index, dictionaries allow retrieval of values using unique keys associated with each value. This makes dictionaries highly efficient for scenarios where data is best represented as pairs rather than a sequence.\n",
    "\n",
    "#### Key-Value Pairs\n",
    "\n",
    "- **Key:** A unique identifier for a value within a dictionary.\n",
    "- **Value:** The data associated with a specific key.\n",
    "\n",
    "**Example:**\n",
    "```python\n",
    "# Creating a simple dictionary\n",
    "student_grades = {'Mujtaba': 92, 'Madiha': 85, 'Irum': 88}\n",
    "```\n",
    "\n",
    "*Side Note: Dictionaries are often compared to real-world dictionaries, where words (keys) are associated with their meanings (values). This analogy helps in understanding the concept of key-value pairs.*"
   ]
  },
  {
   "cell_type": "markdown",
   "id": "d036bde7",
   "metadata": {
    "papermill": {
     "duration": 0.007384,
     "end_time": "2025-05-02T10:55:22.422885",
     "exception": false,
     "start_time": "2025-05-02T10:55:22.415501",
     "status": "completed"
    },
    "tags": []
   },
   "source": [
    "### 1.2 Creating Dictionaries\n",
    "\n",
    "Creating dictionaries in Python involves specifying the key-value pairs within curly braces `{}`. Here's a breakdown of the basic syntax and an example to illustrate the process.\n",
    "\n",
    "#### Basic Syntax\n",
    "\n",
    "- The general syntax for creating a dictionary is as follows:\n",
    "\n",
    "```python\n",
    "dictionary_name = {key1: value1, key2: value2, ...}\n",
    "```\n",
    "\n",
    "- Keys and values are separated by colons (`:`), and each key-value pair is separated by commas."
   ]
  },
  {
   "cell_type": "markdown",
   "id": "835edecd",
   "metadata": {
    "papermill": {
     "duration": 0.006055,
     "end_time": "2025-05-02T10:55:22.435301",
     "exception": false,
     "start_time": "2025-05-02T10:55:22.429246",
     "status": "completed"
    },
    "tags": []
   },
   "source": [
    "**Example: Creating a Dictionary**\n",
    "\n",
    "Let's consider a dictionary representing the ages of individuals:\n",
    "\n",
    "```python\n",
    "# Creating a dictionary of ages\n",
    "ages = {'Mujtaba': 23, 'Madiha': 16, 'Irum': 22}\n",
    "```\n",
    "\n",
    "In this example:\n",
    "- `Mujtaba`, `Madiha`, and `Irum` are keys.\n",
    "- `23`, `16`, and `22` are their respective values.\n",
    "\n",
    "*Side Note: Keys must be unique within a dictionary, as they serve as identifiers for their corresponding values. Attempting to have duplicate keys will result in the last assignment taking precedence.*"
   ]
  },
  {
   "cell_type": "code",
   "execution_count": 1,
   "id": "7357d906",
   "metadata": {
    "execution": {
     "iopub.execute_input": "2025-05-02T10:55:22.449936Z",
     "iopub.status.busy": "2025-05-02T10:55:22.449529Z",
     "iopub.status.idle": "2025-05-02T10:55:22.457606Z",
     "shell.execute_reply": "2025-05-02T10:55:22.456802Z"
    },
    "papermill": {
     "duration": 0.017417,
     "end_time": "2025-05-02T10:55:22.459038",
     "exception": false,
     "start_time": "2025-05-02T10:55:22.441621",
     "status": "completed"
    },
    "tags": []
   },
   "outputs": [],
   "source": [
    "ages = {'Mujtaba': 23, 'Madiha': 16, 'Irum': 22}"
   ]
  },
  {
   "cell_type": "markdown",
   "id": "71c3404a",
   "metadata": {
    "papermill": {
     "duration": 0.006091,
     "end_time": "2025-05-02T10:55:22.471780",
     "exception": false,
     "start_time": "2025-05-02T10:55:22.465689",
     "status": "completed"
    },
    "tags": []
   },
   "source": [
    "### 1.3 Accessing and Modifying Dictionary Elements\n",
    "\n",
    "Once a dictionary is created, you can access and modify its elements using various methods.\n",
    "\n",
    "#### Accessing Values by Key\n",
    "\n",
    "- To retrieve the value associated with a specific key, use the following syntax:\n",
    "\n",
    "```python\n",
    "value = dictionary_name[key]\n",
    "```\n",
    "\n",
    "**Example:**\n",
    "```python\n",
    "# Accessing the age of 'Madiha'\n",
    "Madiha_age = ages['Madiha']\n",
    "print(f\"The age of Madiha is {Madiha_age} years.\")\n",
    "```"
   ]
  },
  {
   "cell_type": "code",
   "execution_count": 2,
   "id": "8ae0e521",
   "metadata": {
    "execution": {
     "iopub.execute_input": "2025-05-02T10:55:22.485623Z",
     "iopub.status.busy": "2025-05-02T10:55:22.485339Z",
     "iopub.status.idle": "2025-05-02T10:55:22.490183Z",
     "shell.execute_reply": "2025-05-02T10:55:22.489193Z"
    },
    "papermill": {
     "duration": 0.01355,
     "end_time": "2025-05-02T10:55:22.491617",
     "exception": false,
     "start_time": "2025-05-02T10:55:22.478067",
     "status": "completed"
    },
    "tags": []
   },
   "outputs": [
    {
     "name": "stdout",
     "output_type": "stream",
     "text": [
      "The age of Madiha is 16 years.\n"
     ]
    }
   ],
   "source": [
    "Madiha_age = ages['Madiha']\n",
    "print(f\"The age of Madiha is {Madiha_age} years.\")"
   ]
  },
  {
   "cell_type": "markdown",
   "id": "10c606c9",
   "metadata": {
    "papermill": {
     "duration": 0.006321,
     "end_time": "2025-05-02T10:55:22.504826",
     "exception": false,
     "start_time": "2025-05-02T10:55:22.498505",
     "status": "completed"
    },
    "tags": []
   },
   "source": [
    "#### Modifying Values\n",
    "\n",
    "- To modify the value associated with a key, use the key within the assignment statement:\n",
    "\n",
    "```python\n",
    "dictionary_name[key] = new_value\n",
    "```\n",
    "\n",
    "**Example:**\n",
    "```python\n",
    "# Modifying Mujtaba's age\n",
    "ages['Mujtaba'] = 26\n",
    "print(f\"Updated age of Mujtaba: {ages['Mujtaba']} years.\")\n",
    "```"
   ]
  },
  {
   "cell_type": "code",
   "execution_count": 3,
   "id": "c2a0abc9",
   "metadata": {
    "execution": {
     "iopub.execute_input": "2025-05-02T10:55:22.519193Z",
     "iopub.status.busy": "2025-05-02T10:55:22.518831Z",
     "iopub.status.idle": "2025-05-02T10:55:22.524364Z",
     "shell.execute_reply": "2025-05-02T10:55:22.523354Z"
    },
    "papermill": {
     "duration": 0.014685,
     "end_time": "2025-05-02T10:55:22.525936",
     "exception": false,
     "start_time": "2025-05-02T10:55:22.511251",
     "status": "completed"
    },
    "tags": []
   },
   "outputs": [
    {
     "name": "stdout",
     "output_type": "stream",
     "text": [
      "Updated age of Mujtaba: 26 years.\n",
      "New age of Madiha: 16 years.\n"
     ]
    }
   ],
   "source": [
    "ages['Mujtaba'] = 26\n",
    "ages['Madiha'] = 16\n",
    "print(f\"Updated age of Mujtaba: {ages['Mujtaba']} years.\")\n",
    "print(f\"New age of Madiha: {ages['Madiha']} years.\")"
   ]
  },
  {
   "cell_type": "markdown",
   "id": "fc4df361",
   "metadata": {
    "papermill": {
     "duration": 0.006337,
     "end_time": "2025-05-02T10:55:22.539078",
     "exception": false,
     "start_time": "2025-05-02T10:55:22.532741",
     "status": "completed"
    },
    "tags": []
   },
   "source": [
    "#### Adding New Key-Value Pairs\n",
    "\n",
    "- To add a new key-value pair to the dictionary, use the following syntax:\n",
    "\n",
    "```python\n",
    "dictionary_name[new_key] = new_value\n",
    "```\n",
    "\n",
    "**Example:**\n",
    "```python\n",
    "# Adding a new person and age to the dictionary\n",
    "ages['Ali'] = 35\n",
    "print(f\"The age of Ali is {ages['Ali']} years.\")\n",
    "```\n",
    "\n",
    "*Side Note: If the specified key already exists when adding a new key-value pair, the associated value will be updated.*"
   ]
  },
  {
   "cell_type": "code",
   "execution_count": 4,
   "id": "4338c7a5",
   "metadata": {
    "execution": {
     "iopub.execute_input": "2025-05-02T10:55:22.553977Z",
     "iopub.status.busy": "2025-05-02T10:55:22.552989Z",
     "iopub.status.idle": "2025-05-02T10:55:22.561211Z",
     "shell.execute_reply": "2025-05-02T10:55:22.560341Z"
    },
    "papermill": {
     "duration": 0.017335,
     "end_time": "2025-05-02T10:55:22.562863",
     "exception": false,
     "start_time": "2025-05-02T10:55:22.545528",
     "status": "completed"
    },
    "tags": []
   },
   "outputs": [
    {
     "name": "stdout",
     "output_type": "stream",
     "text": [
      "The age of David is 35 years.\n"
     ]
    },
    {
     "data": {
      "text/plain": [
       "{'Mujtaba': 26, 'Madiha': 16, 'Irum': 22, 'Ali': 35, 'Abbas': 35}"
      ]
     },
     "execution_count": 4,
     "metadata": {},
     "output_type": "execute_result"
    }
   ],
   "source": [
    "ages['Ali'] = 35\n",
    "ages[\"Abbas\"] = 35\n",
    "print(f\"The age of David is {ages['Ali']} years.\")\n",
    "ages"
   ]
  },
  {
   "cell_type": "markdown",
   "id": "8e02cd84",
   "metadata": {
    "papermill": {
     "duration": 0.006424,
     "end_time": "2025-05-02T10:55:22.576243",
     "exception": false,
     "start_time": "2025-05-02T10:55:22.569819",
     "status": "completed"
    },
    "tags": []
   },
   "source": [
    "### 1.4 Dictionary Methods\n",
    "\n",
    "Dictionaries in Python come with a variety of built-in methods that offer convenient ways to manipulate and work with dictionary data.\n",
    "\n",
    "#### `keys()`, `values()`, `items()`\n",
    "\n",
    "- These methods provide views of the keys, values, and key-value pairs in the dictionary, respectively."
   ]
  },
  {
   "cell_type": "markdown",
   "id": "2730e9e2",
   "metadata": {
    "papermill": {
     "duration": 0.006476,
     "end_time": "2025-05-02T10:55:22.590012",
     "exception": false,
     "start_time": "2025-05-02T10:55:22.583536",
     "status": "completed"
    },
    "tags": []
   },
   "source": [
    "**Example:**\n",
    "```python\n",
    "# Using dictionary methods\n",
    "ages = {'Ali': 25, 'Madiha': 30, 'Elya': 22}\n",
    "\n",
    "# Getting a view of keys\n",
    "all_keys = ages.keys()\n",
    "print(f\"Keys: {all_keys}\")\n",
    "\n",
    "# Getting a view of values\n",
    "all_values = ages.values()\n",
    "print(f\"Values: {all_values}\")\n",
    "\n",
    "# Getting a view of key-value pairs\n",
    "all_items = ages.items()\n",
    "print(f\"Key-Value Pairs: {all_items}\")\n",
    "```"
   ]
  },
  {
   "cell_type": "code",
   "execution_count": 5,
   "id": "f229a54d",
   "metadata": {
    "execution": {
     "iopub.execute_input": "2025-05-02T10:55:22.604735Z",
     "iopub.status.busy": "2025-05-02T10:55:22.604364Z",
     "iopub.status.idle": "2025-05-02T10:55:22.610257Z",
     "shell.execute_reply": "2025-05-02T10:55:22.609181Z"
    },
    "papermill": {
     "duration": 0.014927,
     "end_time": "2025-05-02T10:55:22.611642",
     "exception": false,
     "start_time": "2025-05-02T10:55:22.596715",
     "status": "completed"
    },
    "tags": []
   },
   "outputs": [
    {
     "name": "stdout",
     "output_type": "stream",
     "text": [
      "Keys: dict_keys(['Ali', 'Mujtaba', 'Madiha', 'Elya'])\n",
      "Values: dict_values([25, 26, 18, 24])\n",
      "Key-Value Pairs: dict_items([('Ali', 25), ('Mujtaba', 26), ('Madiha', 18), ('Elya', 24)])\n"
     ]
    }
   ],
   "source": [
    "# Using dictionary methods\n",
    "ages = {'Ali': 25, 'Mujtaba': 26, 'Madiha': 18, \"Elya\":24}\n",
    "\n",
    "# Getting a view of keys\n",
    "all_keys = ages.keys()\n",
    "print(f\"Keys: {all_keys}\")\n",
    "\n",
    "# Getting a view of values\n",
    "all_values = ages.values()\n",
    "print(f\"Values: {all_values}\")\n",
    "\n",
    "# Getting a view of key-value pairs\n",
    "all_items = ages.items()\n",
    "print(f\"Key-Value Pairs: {all_items}\")"
   ]
  },
  {
   "cell_type": "markdown",
   "id": "1cd70a67",
   "metadata": {
    "papermill": {
     "duration": 0.006644,
     "end_time": "2025-05-02T10:55:22.625653",
     "exception": false,
     "start_time": "2025-05-02T10:55:22.619009",
     "status": "completed"
    },
    "tags": []
   },
   "source": [
    "#### `get()` and `setdefault()`\n",
    "\n",
    "- The `get()` method allows safe retrieval of a value by key, and `setdefault()` sets a default value if the key is not present.\n",
    "\n",
    "**Example:**\n",
    "```python\n",
    "# Using get() to safely retrieve a value\n",
    "age_of_ali = ages.get('Ali', 'Age not available')\n",
    "print(f\"The age of Ali is {age_of_ali} years.\")\n",
    "\n",
    "# Using setdefault() to set a default value\n",
    "age_of_elya = ages.setdefault('Elya', 28)\n",
    "print(f\"The age of Elya is {age_of_elya} years.\")\n",
    "```\n",
    "\n",
    "*Side Note: The `get()` method is useful to avoid KeyError when attempting to access a non-existent key, while `setdefault()` helps in providing default values for new keys.*"
   ]
  },
  {
   "cell_type": "code",
   "execution_count": 6,
   "id": "3c9ae721",
   "metadata": {
    "execution": {
     "iopub.execute_input": "2025-05-02T10:55:22.641372Z",
     "iopub.status.busy": "2025-05-02T10:55:22.641012Z",
     "iopub.status.idle": "2025-05-02T10:55:22.647249Z",
     "shell.execute_reply": "2025-05-02T10:55:22.645997Z"
    },
    "papermill": {
     "duration": 0.016319,
     "end_time": "2025-05-02T10:55:22.648917",
     "exception": false,
     "start_time": "2025-05-02T10:55:22.632598",
     "status": "completed"
    },
    "tags": []
   },
   "outputs": [
    {
     "name": "stdout",
     "output_type": "stream",
     "text": [
      "The age of Ali is 25 years.\n",
      "The age of Elya is 24 years.\n"
     ]
    }
   ],
   "source": [
    "# Using get() to safely retrieve a value\n",
    "age_of_ali = ages.get('Ali', 'Age not available')\n",
    "print(f\"The age of Ali is {age_of_ali} years.\")\n",
    "\n",
    "# Using setdefault() to set a default value\n",
    "age_of_elya = ages.setdefault('Elya', 28)\n",
    "print(f\"The age of Elya is {age_of_elya} years.\")"
   ]
  },
  {
   "cell_type": "code",
   "execution_count": 7,
   "id": "fae7a450",
   "metadata": {
    "execution": {
     "iopub.execute_input": "2025-05-02T10:55:22.664107Z",
     "iopub.status.busy": "2025-05-02T10:55:22.663796Z",
     "iopub.status.idle": "2025-05-02T10:55:22.669425Z",
     "shell.execute_reply": "2025-05-02T10:55:22.668438Z"
    },
    "papermill": {
     "duration": 0.015136,
     "end_time": "2025-05-02T10:55:22.670998",
     "exception": false,
     "start_time": "2025-05-02T10:55:22.655862",
     "status": "completed"
    },
    "tags": []
   },
   "outputs": [
    {
     "name": "stdout",
     "output_type": "stream",
     "text": [
      "City: Unknown\n",
      "Updated Dictionary: {'name': 'Mujtaba', 'age': 25, 'city': 'Unknown'}\n"
     ]
    }
   ],
   "source": [
    "my_dict = {'name': 'Mujtaba', 'age': 25}\n",
    "\n",
    "# Using setdefault to retrieve the value for 'city'\n",
    "city = my_dict.setdefault('city', 'Unknown')\n",
    "\n",
    "print(\"City:\", city)  # Output: City: Unknown\n",
    "print(\"Updated Dictionary:\", my_dict)\n",
    "# Output: Updated Dictionary: {'name': 'Mujtaba', 'age': 25, 'city': 'Unknown'}"
   ]
  },
  {
   "cell_type": "markdown",
   "id": "e49d2171",
   "metadata": {
    "papermill": {
     "duration": 0.007015,
     "end_time": "2025-05-02T10:55:22.685055",
     "exception": false,
     "start_time": "2025-05-02T10:55:22.678040",
     "status": "completed"
    },
    "tags": []
   },
   "source": [
    "### 1.5 Iterating Through a Dictionary\n",
    "\n",
    "Iterating through a dictionary allows you to access its keys, values, or key-value pairs systematically.\n",
    "\n",
    "#### Looping Through Keys, Values, and Items\n",
    "\n",
    "- The `for` loop is commonly used to iterate through different aspects of a dictionary."
   ]
  },
  {
   "cell_type": "markdown",
   "id": "fc2107b7",
   "metadata": {
    "papermill": {
     "duration": 0.006972,
     "end_time": "2025-05-02T10:55:22.699404",
     "exception": false,
     "start_time": "2025-05-02T10:55:22.692432",
     "status": "completed"
    },
    "tags": []
   },
   "source": [
    "**Example:**\n",
    "```python\n",
    "# Iterating through keys\n",
    "for key in ages:\n",
    "    print(f\"Key: {key}\")\n",
    "\n",
    "# Iterating through values\n",
    "for value in ages.values():\n",
    "    print(f\"Value: {value}\")\n",
    "\n",
    "# Iterating through key-value pairs\n",
    "for key, value in ages.items():\n",
    "    print(f\"{key}'s age is {value} years.\")\n",
    "```"
   ]
  },
  {
   "cell_type": "code",
   "execution_count": 8,
   "id": "32b6450d",
   "metadata": {
    "execution": {
     "iopub.execute_input": "2025-05-02T10:55:22.715473Z",
     "iopub.status.busy": "2025-05-02T10:55:22.715101Z",
     "iopub.status.idle": "2025-05-02T10:55:22.721528Z",
     "shell.execute_reply": "2025-05-02T10:55:22.720413Z"
    },
    "papermill": {
     "duration": 0.015862,
     "end_time": "2025-05-02T10:55:22.722881",
     "exception": false,
     "start_time": "2025-05-02T10:55:22.707019",
     "status": "completed"
    },
    "tags": []
   },
   "outputs": [
    {
     "name": "stdout",
     "output_type": "stream",
     "text": [
      "Key: Ali\n",
      "Key: Mujtaba\n",
      "Key: Madiha\n",
      "Key: Elya\n",
      "Value: 25\n",
      "Value: 26\n",
      "Value: 18\n",
      "Value: 24\n",
      "Ali's age is 25 years.\n",
      "Mujtaba's age is 26 years.\n",
      "Madiha's age is 18 years.\n",
      "Elya's age is 24 years.\n"
     ]
    }
   ],
   "source": [
    "# Iterating through keys\n",
    "for key in ages: #.keys()\n",
    "    print(f\"Key: {key}\")\n",
    "\n",
    "# Iterating through values\n",
    "for value in ages.values():\n",
    "    print(f\"Value: {value}\")\n",
    "\n",
    "# Iterating through key-value pairs\n",
    "for key, value in ages.items():\n",
    "    print(f\"{key}'s age is {value} years.\")"
   ]
  },
  {
   "cell_type": "markdown",
   "id": "60ff04f9",
   "metadata": {
    "papermill": {
     "duration": 0.006818,
     "end_time": "2025-05-02T10:55:22.736806",
     "exception": false,
     "start_time": "2025-05-02T10:55:22.729988",
     "status": "completed"
    },
    "tags": []
   },
   "source": [
    "#### Example: Iterating Through a Dictionary\n",
    "\n",
    "Suppose you want to find and print the names of individuals above a certain age:\n",
    "\n",
    "```python\n",
    "# Iterating through keys and values to find names above a certain age\n",
    "for name, age in ages.items():\n",
    "    if age > 25:\n",
    "        print(f\"{name} is above 25 years old.\")\n",
    "```\n",
    "\n",
    "*Side Note: The order of iteration is not guaranteed to be in the same order as items were inserted into the dictionary. If order matters, use `collections.OrderedDict`.*"
   ]
  },
  {
   "cell_type": "code",
   "execution_count": 9,
   "id": "53a507ae",
   "metadata": {
    "execution": {
     "iopub.execute_input": "2025-05-02T10:55:22.752203Z",
     "iopub.status.busy": "2025-05-02T10:55:22.751873Z",
     "iopub.status.idle": "2025-05-02T10:55:22.757530Z",
     "shell.execute_reply": "2025-05-02T10:55:22.756584Z"
    },
    "papermill": {
     "duration": 0.015204,
     "end_time": "2025-05-02T10:55:22.759121",
     "exception": false,
     "start_time": "2025-05-02T10:55:22.743917",
     "status": "completed"
    },
    "tags": []
   },
   "outputs": [
    {
     "name": "stdout",
     "output_type": "stream",
     "text": [
      "Mujtaba is above 25 years old.\n"
     ]
    }
   ],
   "source": [
    "# Iterating through keys and values to find names above a certain age\n",
    "for name, age in ages.items():\n",
    "    if age > 25:\n",
    "        print(f\"{name} is above 25 years old.\")"
   ]
  },
  {
   "cell_type": "markdown",
   "id": "93a051bd",
   "metadata": {
    "papermill": {
     "duration": 0.006775,
     "end_time": "2025-05-02T10:55:22.773434",
     "exception": false,
     "start_time": "2025-05-02T10:55:22.766659",
     "status": "completed"
    },
    "tags": []
   },
   "source": [
    "### 1.6 Nested Dictionaries\n",
    "\n",
    "In Python, dictionaries can be nested within one another, allowing for the creation of more complex data structures.\n",
    "\n",
    "#### Definition and Structure\n",
    "\n",
    "- **Nested Dictionary:** A dictionary that is a value within another dictionary.\n",
    "\n",
    "**Example:**\n",
    "```python\n",
    "# Creating a nested dictionary\n",
    "employee_data = {\n",
    "    'Mujtaba': {'age': 26, 'position': 'Manager'},\n",
    "    'Madiha': {'age': 16, 'position': 'Developer'},\n",
    "    'Irum': {'age': 23, 'position': 'Designer'}\n",
    "}\n",
    "```"
   ]
  },
  {
   "cell_type": "code",
   "execution_count": 10,
   "id": "bcc2da91",
   "metadata": {
    "execution": {
     "iopub.execute_input": "2025-05-02T10:55:22.856973Z",
     "iopub.status.busy": "2025-05-02T10:55:22.856672Z",
     "iopub.status.idle": "2025-05-02T10:55:22.861121Z",
     "shell.execute_reply": "2025-05-02T10:55:22.860157Z"
    },
    "papermill": {
     "duration": 0.08232,
     "end_time": "2025-05-02T10:55:22.862617",
     "exception": false,
     "start_time": "2025-05-02T10:55:22.780297",
     "status": "completed"
    },
    "tags": []
   },
   "outputs": [],
   "source": [
    "employee_data = {\n",
    "    'Mujtaba': {'age': 26, 'position': 'Manager'},\n",
    "    'Madiha': {'age': 16, 'position': 'Developer'},\n",
    "    'Irum': {'age': 23, 'position': 'Designer'}\n",
    "}"
   ]
  },
  {
   "cell_type": "markdown",
   "id": "ea28829a",
   "metadata": {
    "papermill": {
     "duration": 0.007077,
     "end_time": "2025-05-02T10:55:22.877088",
     "exception": false,
     "start_time": "2025-05-02T10:55:22.870011",
     "status": "completed"
    },
    "tags": []
   },
   "source": [
    "#### Accessing and Modifying Nested Elements\n",
    "\n",
    "- To access or modify values within a nested dictionary, use multiple square brackets to navigate through the levels.\n",
    "\n",
    "**Example:**\n",
    "```python\n",
    "# Accessing Irum's age\n",
    "Irum_age = employee_data['Irum']['age']\n",
    "print(f\"Irum's age: {Irum_age}\")\n",
    "\n",
    "# Modifying Mujtaba's position\n",
    "employee_data['Mujtaba']['position'] = 'Senior Manager'\n",
    "print(f\"Mujtaba's updated position: {employee_data['Mujtaba']['position']}\")\n",
    "```\n",
    "\n",
    "*Side Note: Nesting dictionaries is particularly useful when dealing with structured data, such as information about employees, where each employee has multiple attributes.*"
   ]
  },
  {
   "cell_type": "code",
   "execution_count": 11,
   "id": "0080843d",
   "metadata": {
    "execution": {
     "iopub.execute_input": "2025-05-02T10:55:22.892651Z",
     "iopub.status.busy": "2025-05-02T10:55:22.892022Z",
     "iopub.status.idle": "2025-05-02T10:55:22.897443Z",
     "shell.execute_reply": "2025-05-02T10:55:22.896646Z"
    },
    "papermill": {
     "duration": 0.015055,
     "end_time": "2025-05-02T10:55:22.899124",
     "exception": false,
     "start_time": "2025-05-02T10:55:22.884069",
     "status": "completed"
    },
    "tags": []
   },
   "outputs": [
    {
     "name": "stdout",
     "output_type": "stream",
     "text": [
      "Irum's age: 23\n",
      "Mujtaba's updated position: Senior Manager\n"
     ]
    }
   ],
   "source": [
    "# Accessing Irum's age\n",
    "Irum_age = employee_data['Irum']['age']\n",
    "print(f\"Irum's age: {Irum_age}\")\n",
    "\n",
    "# Modifying Mujtaba's position\n",
    "employee_data['Mujtaba']['position'] = 'Senior Manager'\n",
    "print(f\"Mujtaba's updated position: {employee_data['Mujtaba']['position']}\")"
   ]
  },
  {
   "cell_type": "markdown",
   "id": "9077922b",
   "metadata": {
    "papermill": {
     "duration": 0.006921,
     "end_time": "2025-05-02T10:55:22.913483",
     "exception": false,
     "start_time": "2025-05-02T10:55:22.906562",
     "status": "completed"
    },
    "tags": []
   },
   "source": [
    "### 1.7 Practical Applications\n",
    "\n",
    "Dictionaries play a crucial role in various real-world scenarios, offering a flexible and efficient way to manage and organize data.\n",
    "\n",
    "#### Use Cases in Real-World Scenarios\n",
    "\n",
    "1. **Database Records:**\n",
    "   - Dictionaries can represent database records, where each key-value pair corresponds to a field and its value. For example, a user profile may include keys like 'username', 'email', and 'age'."
   ]
  },
  {
   "cell_type": "markdown",
   "id": "12395744",
   "metadata": {
    "papermill": {
     "duration": 0.007064,
     "end_time": "2025-05-02T10:55:22.928427",
     "exception": false,
     "start_time": "2025-05-02T10:55:22.921363",
     "status": "completed"
    },
    "tags": []
   },
   "source": [
    "2. **Configuration Settings:**\n",
    "   - Dictionaries are often used to store configuration settings for applications. Keys can represent different settings, and values hold the corresponding configurations.\n",
    "\n",
    "3. **Data Analysis:**\n",
    "   - In data analysis, dictionaries are useful for storing and manipulating data. For instance, a dictionary could hold information about sales figures, with product names as keys and sales amounts as values.\n",
    "\n",
    "4. **API Responses:**\n",
    "   - When working with APIs, responses are often in the form of dictionaries. Keys represent different attributes, and values contain the corresponding data."
   ]
  },
  {
   "cell_type": "markdown",
   "id": "70e484bb",
   "metadata": {
    "papermill": {
     "duration": 0.006893,
     "end_time": "2025-05-02T10:55:22.942534",
     "exception": false,
     "start_time": "2025-05-02T10:55:22.935641",
     "status": "completed"
    },
    "tags": []
   },
   "source": [
    "#### Efficiency and Flexibility of Dictionaries\n",
    "\n",
    "- Dictionaries provide quick and direct access to values through keys, making them efficient for tasks such as data retrieval and modification. Their flexibility in handling various data types and structures makes them a versatile choice for developers.\n",
    "\n",
    "**Example:**\n",
    "```python\n",
    "# Example of a dictionary representing a user profile\n",
    "user_profile = {\n",
    "    'username': 'Mujtaba ALi',\n",
    "    'email': 'Mujtaba@example.com',\n",
    "    'age': 26,\n",
    "    'is_admin': False\n",
    "}\n",
    "```\n",
    "\n",
    "*Side Note: Understanding the practical applications of dictionaries enhances a programmer's ability to design efficient and structured solutions.*"
   ]
  },
  {
   "cell_type": "markdown",
   "id": "b677dfa7",
   "metadata": {
    "papermill": {
     "duration": 0.006701,
     "end_time": "2025-05-02T10:55:22.956427",
     "exception": false,
     "start_time": "2025-05-02T10:55:22.949726",
     "status": "completed"
    },
    "tags": []
   },
   "source": [
    "*Reflection Questions:*\n",
    "1. What is the primary purpose of dictionaries in Python?\n",
    "   - a) Storing only numerical data\n",
    "   - b) Managing key-value pairs\n",
    "   - c) Sorting elements in ascending order\n",
    "   - d) Performing mathematical operations\n",
    "\n",
    "<details>\n",
    "<summary>Click to reveal the answer:</summary>\n",
    "b) Managing key-value pairs"
   ]
  },
  {
   "cell_type": "markdown",
   "id": "3936db1b",
   "metadata": {
    "execution": {
     "iopub.execute_input": "2025-05-01T09:37:33.682299Z",
     "iopub.status.busy": "2025-05-01T09:37:33.681949Z",
     "iopub.status.idle": "2025-05-01T09:37:33.694697Z",
     "shell.execute_reply": "2025-05-01T09:37:33.693444Z",
     "shell.execute_reply.started": "2025-05-01T09:37:33.682273Z"
    },
    "papermill": {
     "duration": 0.006673,
     "end_time": "2025-05-02T10:55:22.970122",
     "exception": false,
     "start_time": "2025-05-02T10:55:22.963449",
     "status": "completed"
    },
    "tags": []
   },
   "source": [
    "2. What is the fundamental difference between dictionaries and lists in Python?\n",
    "   - a) Lists use keys, dictionaries use indexes.\n",
    "   - b) Lists store values, dictionaries store pairs.\n",
    "   - c) Lists are mutable, dictionaries are immutable.\n",
    "   - d) Lists have a fixed size, dictionaries can grow dynamically.\n",
    "\n",
    "<details>\n",
    "<summary>Click to reveal the answer:</summary>\n",
    "b) Lists store values, dictionaries store pairs."
   ]
  },
  {
   "cell_type": "markdown",
   "id": "bd46d4e6",
   "metadata": {
    "papermill": {
     "duration": 0.006609,
     "end_time": "2025-05-02T10:55:22.983770",
     "exception": false,
     "start_time": "2025-05-02T10:55:22.977161",
     "status": "completed"
    },
    "tags": []
   },
   "source": [
    "3. Why are dictionaries considered efficient for data retrieval?\n",
    "   - a) Values are stored in a sequential order.\n",
    "   - b) Elements can be accessed by index.\n",
    "   - c) Data is organized as key-value pairs.\n",
    "   - d) Dictionaries have a fixed size.\n",
    "\n",
    "<details>\n",
    "<summary>Click to reveal the answer:</summary>\n",
    "c) Data is organized as key-value pairs."
   ]
  },
  {
   "cell_type": "markdown",
   "id": "ada0fa6a",
   "metadata": {
    "papermill": {
     "duration": 0.006653,
     "end_time": "2025-05-02T10:55:22.997490",
     "exception": false,
     "start_time": "2025-05-02T10:55:22.990837",
     "status": "completed"
    },
    "tags": []
   },
   "source": [
    "4. How would you describe a key in a dictionary?\n",
    "   - a) A value associated with a specific data type.\n",
    "   - b) An index indicating the position of an element.\n",
    "   - c) A unique identifier for a value.\n",
    "   - d) A numerical representation of data.\n",
    "\n",
    "<details>\n",
    "<summary>Click to reveal the answer:</summary>\n",
    "c) A unique identifier for a value."
   ]
  },
  {
   "cell_type": "markdown",
   "id": "72778940",
   "metadata": {
    "papermill": {
     "duration": 0.006781,
     "end_time": "2025-05-02T10:55:23.011280",
     "exception": false,
     "start_time": "2025-05-02T10:55:23.004499",
     "status": "completed"
    },
    "tags": []
   },
   "source": [
    "5. What is the purpose of curly braces in the basic syntax of creating dictionaries?\n",
    "   - a) To indicate the type of data being stored.\n",
    "   - b) To create a block of code.\n",
    "   - c) To represent a set of key-value pairs.\n",
    "   - d) To define the scope of the dictionary.\n",
    "   \n",
    "   <details>\n",
    "<summary>Click to reveal the answer:</summary>\n",
    "c) To represent a set of key-value pairs."
   ]
  },
  {
   "cell_type": "markdown",
   "id": "b82c068b",
   "metadata": {
    "papermill": {
     "duration": 0.006647,
     "end_time": "2025-05-02T10:55:23.024911",
     "exception": false,
     "start_time": "2025-05-02T10:55:23.018264",
     "status": "completed"
    },
    "tags": []
   },
   "source": [
    "6. In the example provided, what are the keys and values in the `ages` dictionary?\n",
    "   - a) Keys: 25, 16, 22; Values: 'Ali', 'Madiha', 'Irum'\n",
    "   - b) Keys: 'Ali', 'Madiha', 'Irum'; Values: 25, 16, 22\n",
    "   - c) Keys: 25, 'Madiha', 22; Values: 'Ali', 'Irum', 16\n",
    "   - d) Keys: 'Ali', 'Madiha', 'Irum'; Values: 25, 16, 22\n",
    "   \n",
    "<details>\n",
    "<summary>Click to reveal the answer:</summary>\n",
    "Keys: 'Ali', 'Madiha', 'Irum'; Values: 25, 16, 22"
   ]
  },
  {
   "cell_type": "markdown",
   "id": "1d32d49c",
   "metadata": {
    "papermill": {
     "duration": 0.006719,
     "end_time": "2025-05-02T10:55:23.038559",
     "exception": false,
     "start_time": "2025-05-02T10:55:23.031840",
     "status": "completed"
    },
    "tags": []
   },
   "source": [
    "7. Why is it important for keys to be unique within a dictionary?\n",
    "   - a) It simplifies the syntax of dictionary creation.\n",
    "   - b) It ensures efficient data retrieval.\n",
    "   - c) It allows for the use of duplicate keys.\n",
    "   - d) It is a convention but not a requirement.\n",
    "   \n",
    "<details>\n",
    "<summary>Click to reveal the answer:</summary>\n",
    "b) It ensures efficient data retrieval."
   ]
  },
  {
   "cell_type": "markdown",
   "id": "a2089251",
   "metadata": {
    "papermill": {
     "duration": 0.00668,
     "end_time": "2025-05-02T10:55:23.052383",
     "exception": false,
     "start_time": "2025-05-02T10:55:23.045703",
     "status": "completed"
    },
    "tags": []
   },
   "source": [
    "8. How is a specific value accessed in a dictionary using its key?\n",
    "   - a) By using the `value` method\n",
    "   - b) Using the `index()` function\n",
    "   - c) Through key-based indexing\n",
    "   - d) With the `find()` method\n",
    "   \n",
    "   <details>\n",
    "<summary>Click to reveal the answer:</summary>\n",
    "c) Through key-based indexing"
   ]
  },
  {
   "cell_type": "markdown",
   "id": "479fc493",
   "metadata": {
    "papermill": {
     "duration": 0.007762,
     "end_time": "2025-05-02T10:55:23.067159",
     "exception": false,
     "start_time": "2025-05-02T10:55:23.059397",
     "status": "completed"
    },
    "tags": []
   },
   "source": [
    "9. In the example provided, how is Ali's age modified in the `ages` dictionary?\n",
    "   - a) `ages['Ali'] = 26`\n",
    "   - b) `ages.modify('Ali', 26)`\n",
    "   - c) `ages.update('Ali', 26)`\n",
    "   - d) `ages.set('Ali', 26)`\n",
    "   \n",
    "   <details>\n",
    "<summary>Click to reveal the answer:</summary>\n",
    "`ages['Ali'] = 26`"
   ]
  },
  {
   "cell_type": "markdown",
   "id": "fd68e6c5",
   "metadata": {
    "papermill": {
     "duration": 0.008848,
     "end_time": "2025-05-02T10:55:23.083541",
     "exception": false,
     "start_time": "2025-05-02T10:55:23.074693",
     "status": "completed"
    },
    "tags": []
   },
   "source": [
    "10. How can you add a new key-value pair to an existing dictionary?\n",
    "   - a) Using the `append()` function\n",
    "   - b) Assigning a value to a new key\n",
    "   - c) Merging two dictionaries\n",
    "   - d) Creating a new dictionary and copying values\n",
    "   \n",
    "<details>\n",
    "<summary>Click to reveal the answer:</summary>\n",
    "b) Assigning a value to a new key"
   ]
  },
  {
   "cell_type": "markdown",
   "id": "5811b168",
   "metadata": {
    "papermill": {
     "duration": 0.007287,
     "end_time": "2025-05-02T10:55:23.098531",
     "exception": false,
     "start_time": "2025-05-02T10:55:23.091244",
     "status": "completed"
    },
    "tags": []
   },
   "source": [
    "11. Which method is used to obtain a list of all keys in a dictionary?\n",
    "   - a) `keys()`\n",
    "   - b) `list()`\n",
    "   - c) `get()`\n",
    "   - d) `items()`\n",
    "\n",
    "<details>\n",
    "<summary>Click to reveal the answer:</summary>\n",
    "a) `keys()`"
   ]
  },
  {
   "cell_type": "markdown",
   "id": "c351263e",
   "metadata": {
    "papermill": {
     "duration": 0.007346,
     "end_time": "2025-05-02T10:55:23.113218",
     "exception": false,
     "start_time": "2025-05-02T10:55:23.105872",
     "status": "completed"
    },
    "tags": []
   },
   "source": [
    "12. What is the purpose of the `keys()`, `values()`, and `items()` methods in dictionaries?\n",
    "   - a) To remove elements from the dictionary\n",
    "   - b) To retrieve views of keys, values, and key-value pairs\n",
    "   - c) To sort the dictionary in alphabetical order\n",
    "   - d) To modify the keys, values, and items in the dictionary\n",
    "\n",
    "<details>\n",
    "<summary>Click to reveal the answer:</summary>\n",
    "b) To retrieve views of keys, values, and key-value pairs"
   ]
  },
  {
   "cell_type": "markdown",
   "id": "3ec16b5f",
   "metadata": {
    "execution": {
     "iopub.execute_input": "2025-05-02T10:27:58.786554Z",
     "iopub.status.busy": "2025-05-02T10:27:58.786198Z",
     "iopub.status.idle": "2025-05-02T10:27:58.794553Z",
     "shell.execute_reply": "2025-05-02T10:27:58.792784Z",
     "shell.execute_reply.started": "2025-05-02T10:27:58.786530Z"
    },
    "papermill": {
     "duration": 0.006732,
     "end_time": "2025-05-02T10:55:23.127040",
     "exception": false,
     "start_time": "2025-05-02T10:55:23.120308",
     "status": "completed"
    },
    "tags": []
   },
   "source": [
    "13. In the example provided, what will be the output of `all_keys`?\n",
    "   - a) `[Ali, Madiha, Elya]`\n",
    "   - b) `['Ali', 'Madiha', 'Elya']`\n",
    "   - c) `(Ali, Madiha, Elya)`\n",
    "   - d) `{Ali, Madiha, Elya}`\n",
    "\n",
    "<details>\n",
    "<summary>Click to reveal the answer:</summary>\n",
    "b) `['Ali', 'Madiha', 'Elya']`"
   ]
  },
  {
   "cell_type": "markdown",
   "id": "f5fa1ccd",
   "metadata": {
    "papermill": {
     "duration": 0.006899,
     "end_time": "2025-05-02T10:55:23.140973",
     "exception": false,
     "start_time": "2025-05-02T10:55:23.134074",
     "status": "completed"
    },
    "tags": []
   },
   "source": [
    "14. When might you use the `get()` method instead of directly accessing a key in a dictionary?\n",
    "   - a) When you want to add a new key-value pair.\n",
    "   - b) When you want to retrieve a value safely without risking a KeyError.\n",
    "   - c) When you want to remove a key from the dictionary.\n",
    "   - d) When you want to reverse the order of keys in the dictionary.\n",
    "\n",
    "<details>\n",
    "<summary>Click to reveal the answer:</summary>\n",
    "b) When you want to retrieve a value safely without risking a KeyError."
   ]
  },
  {
   "cell_type": "markdown",
   "id": "fea9dfef",
   "metadata": {
    "papermill": {
     "duration": 0.006751,
     "end_time": "2025-05-02T10:55:23.154749",
     "exception": false,
     "start_time": "2025-05-02T10:55:23.147998",
     "status": "completed"
    },
    "tags": []
   },
   "source": [
    "15. In the provided example, what does the `for key in ages` loop achieve?\n",
    "   - a) Iterates through values in the dictionary\n",
    "   - b) Iterates through keys in the dictionary\n",
    "   - c) Iterates through key-value pairs in the dictionary\n",
    "   - d) Creates a new dictionary with keys as values and vice versa\n",
    "\n",
    "<details>\n",
    "<summary>Click to reveal the answer:</summary>\n",
    "b) Iterates through keys in the dictionary"
   ]
  },
  {
   "cell_type": "markdown",
   "id": "5f2def00",
   "metadata": {
    "papermill": {
     "duration": 0.006896,
     "end_time": "2025-05-02T10:55:23.168618",
     "exception": false,
     "start_time": "2025-05-02T10:55:23.161722",
     "status": "completed"
    },
    "tags": []
   },
   "source": [
    "16. Why is the order of iteration not guaranteed to be the same as the order of items inserted into the dictionary?\n",
    "   - a) Dictionaries automatically randomize their order for efficiency.\n",
    "   - b) Python dictionaries use hash tables for efficient key lookup.\n",
    "   - c) Iteration order is determined by the size of the dictionary.\n",
    "   - d) It is guaranteed, and the statement is incorrect.\n",
    "\n",
    "<details>\n",
    "<summary>Click to reveal the answer:</summary>\n",
    "b) Python dictionaries use hash tables for efficient key lookup."
   ]
  },
  {
   "cell_type": "markdown",
   "id": "b73c9f61",
   "metadata": {
    "papermill": {
     "duration": 0.006724,
     "end_time": "2025-05-02T10:55:23.182349",
     "exception": false,
     "start_time": "2025-05-02T10:55:23.175625",
     "status": "completed"
    },
    "tags": []
   },
   "source": [
    "17. What is a nested dictionary, and how does it differ from a regular dictionary?\n",
    "   - a) A dictionary with duplicated keys; it differs in syntax.\n",
    "   - b) A dictionary with only one key-value pair; it differs in size.\n",
    "   - c) A dictionary that is a value within another dictionary; it allows for more complex data structures.\n",
    "   - d) A dictionary that automatically sorts its keys; it differs in sorting behavior.\n",
    "\n",
    "<details>\n",
    "<summary>Click to reveal the answer:</summary>\n",
    "c) A dictionary that is a value within another dictionary; it allows for more complex data structures."
   ]
  },
  {
   "cell_type": "markdown",
   "id": "d228bb38",
   "metadata": {
    "papermill": {
     "duration": 0.00682,
     "end_time": "2025-05-02T10:55:23.196312",
     "exception": false,
     "start_time": "2025-05-02T10:55:23.189492",
     "status": "completed"
    },
    "tags": []
   },
   "source": [
    "18. In the provided example, how would you access Ali's position in the `employee_data` dictionary?\n",
    "   - a) `employee_data['position']['Ali']`\n",
    "   - b) `employee_data['ALi']['position']`\n",
    "   - c) `employee_data['ALi'].position`\n",
    "   - d) `employee_data['position'].Ali`\n",
    "\n",
    "<details>\n",
    "<summary>Click to reveal the answer:</summary>\n",
    "b) `employee_data['Ali']['position']`"
   ]
  },
  {
   "cell_type": "markdown",
   "id": "6b84a713",
   "metadata": {
    "papermill": {
     "duration": 0.006735,
     "end_time": "2025-05-02T10:55:23.210253",
     "exception": false,
     "start_time": "2025-05-02T10:55:23.203518",
     "status": "completed"
    },
    "tags": []
   },
   "source": [
    "19. In the context of practical applications, why might dictionaries be preferred over other data structures?\n",
    "   - a) Dictionaries provide quick and direct access to values through keys.\n",
    "   - b) Other data structures do not support key-value pairs.\n",
    "   - c) Dictionaries have a fixed size, ensuring better memory management.\n",
    "   - d) Other data structures are not as flexible in handling various data types.\n",
    "\n",
    "<details>\n",
    "<summary>Click to reveal the answer:</summary>\n",
    "a) Dictionaries provide quick and direct access to values through keys."
   ]
  },
  {
   "cell_type": "markdown",
   "id": "7c015c85",
   "metadata": {
    "papermill": {
     "duration": 0.006616,
     "end_time": "2025-05-02T10:55:23.223896",
     "exception": false,
     "start_time": "2025-05-02T10:55:23.217280",
     "status": "completed"
    },
    "tags": []
   },
   "source": [
    "20. When might a nested dictionary be beneficial in a real-world scenario?\n",
    "   - a) When dealing with a small amount of structured data.\n",
    "   - b) When the data is unorganized and not hierarchical.\n",
    "   - c) When representing complex structures with nested attributes or categories.\n",
    "   - d) Nested dictionaries are never beneficial in real-world scenarios.\n",
    "\n",
    "<details>\n",
    "<summary>Click to reveal the answer:</summary>\n",
    "c) When representing complex structures with nested attributes or categories."
   ]
  },
  {
   "cell_type": "code",
   "execution_count": null,
   "id": "c88a3679",
   "metadata": {
    "papermill": {
     "duration": 0.006877,
     "end_time": "2025-05-02T10:55:23.237796",
     "exception": false,
     "start_time": "2025-05-02T10:55:23.230919",
     "status": "completed"
    },
    "tags": []
   },
   "outputs": [],
   "source": []
  }
 ],
 "metadata": {
  "kaggle": {
   "accelerator": "none",
   "dataSources": [],
   "dockerImageVersionId": 31012,
   "isGpuEnabled": false,
   "isInternetEnabled": true,
   "language": "python",
   "sourceType": "notebook"
  },
  "kernelspec": {
   "display_name": "Python 3",
   "language": "python",
   "name": "python3"
  },
  "language_info": {
   "codemirror_mode": {
    "name": "ipython",
    "version": 3
   },
   "file_extension": ".py",
   "mimetype": "text/x-python",
   "name": "python",
   "nbconvert_exporter": "python",
   "pygments_lexer": "ipython3",
   "version": "3.11.11"
  },
  "papermill": {
   "default_parameters": {},
   "duration": 6.873607,
   "end_time": "2025-05-02T10:55:23.663987",
   "environment_variables": {},
   "exception": null,
   "input_path": "__notebook__.ipynb",
   "output_path": "__notebook__.ipynb",
   "parameters": {},
   "start_time": "2025-05-02T10:55:16.790380",
   "version": "2.6.0"
  }
 },
 "nbformat": 4,
 "nbformat_minor": 5
}
