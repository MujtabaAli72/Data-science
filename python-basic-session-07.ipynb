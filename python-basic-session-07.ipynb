{
 "cells": [
  {
   "cell_type": "markdown",
   "id": "afbf3ca1",
   "metadata": {
    "_cell_guid": "b1076dfc-b9ad-4769-8c92-a6c4dae69d19",
    "_uuid": "8f2839f25d086af736a60e9eeb907d3b93b6e0e5",
    "papermill": {
     "duration": 0.00817,
     "end_time": "2025-05-04T10:09:01.993721",
     "exception": false,
     "start_time": "2025-05-04T10:09:01.985551",
     "status": "completed"
    },
    "tags": []
   },
   "source": [
    "## **Dictionaries**\n",
    "\n",
    "### **1.1 Introduction to Dictionaries**\n",
    "\n",
    "In Python, a **dictionary** is a versatile and mutable data structure used to store and organize data in the form of **key-value pairs**. Unlike lists and tuples, where elements are accessed by their index, dictionaries allow retrieval of values using unique keys associated with each value. This makes dictionaries highly efficient for scenarios where data is best represented as pairs rather than a sequence.\n",
    "\n",
    "#### Key-Value Pairs\n",
    "\n",
    "- **Key:** A unique identifier for a value within a dictionary.\n",
    "- **Value:** The data associated with a specific key.\n",
    "\n",
    "**Example:**\n",
    "```python\n",
    "# Creating a simple dictionary\n",
    "student_grades = {'Mujtaba': 92, 'Madiha': 85, 'Irum': 88}\n",
    "```\n",
    "\n",
    "*Side Note: Dictionaries are often compared to real-world dictionaries, where words (keys) are associated with their meanings (values). This analogy helps in understanding the concept of key-value pairs.*"
   ]
  },
  {
   "cell_type": "markdown",
   "id": "d74a6387",
   "metadata": {
    "papermill": {
     "duration": 0.00649,
     "end_time": "2025-05-04T10:09:02.007280",
     "exception": false,
     "start_time": "2025-05-04T10:09:02.000790",
     "status": "completed"
    },
    "tags": []
   },
   "source": [
    "### 1.2 Creating Dictionaries\n",
    "\n",
    "Creating dictionaries in Python involves specifying the key-value pairs within curly braces `{}`. Here's a breakdown of the basic syntax and an example to illustrate the process.\n",
    "\n",
    "#### Basic Syntax\n",
    "\n",
    "- The general syntax for creating a dictionary is as follows:\n",
    "\n",
    "```python\n",
    "dictionary_name = {key1: value1, key2: value2, ...}\n",
    "```\n",
    "\n",
    "- Keys and values are separated by colons (`:`), and each key-value pair is separated by commas."
   ]
  },
  {
   "cell_type": "markdown",
   "id": "52803814",
   "metadata": {
    "papermill": {
     "duration": 0.006331,
     "end_time": "2025-05-04T10:09:02.020251",
     "exception": false,
     "start_time": "2025-05-04T10:09:02.013920",
     "status": "completed"
    },
    "tags": []
   },
   "source": [
    "**Example: Creating a Dictionary**\n",
    "\n",
    "Let's consider a dictionary representing the ages of individuals:\n",
    "\n",
    "```python\n",
    "# Creating a dictionary of ages\n",
    "ages = {'Mujtaba': 23, 'Madiha': 16, 'Irum': 22}\n",
    "```\n",
    "\n",
    "In this example:\n",
    "- `Mujtaba`, `Madiha`, and `Irum` are keys.\n",
    "- `23`, `16`, and `22` are their respective values.\n",
    "\n",
    "*Side Note: Keys must be unique within a dictionary, as they serve as identifiers for their corresponding values. Attempting to have duplicate keys will result in the last assignment taking precedence.*"
   ]
  },
  {
   "cell_type": "code",
   "execution_count": 1,
   "id": "837640c1",
   "metadata": {
    "execution": {
     "iopub.execute_input": "2025-05-04T10:09:02.034683Z",
     "iopub.status.busy": "2025-05-04T10:09:02.034334Z",
     "iopub.status.idle": "2025-05-04T10:09:02.041286Z",
     "shell.execute_reply": "2025-05-04T10:09:02.040651Z"
    },
    "papermill": {
     "duration": 0.015804,
     "end_time": "2025-05-04T10:09:02.042524",
     "exception": false,
     "start_time": "2025-05-04T10:09:02.026720",
     "status": "completed"
    },
    "tags": []
   },
   "outputs": [],
   "source": [
    "ages = {'Mujtaba': 23, 'Madiha': 16, 'Irum': 22}"
   ]
  },
  {
   "cell_type": "markdown",
   "id": "d07db02a",
   "metadata": {
    "papermill": {
     "duration": 0.006315,
     "end_time": "2025-05-04T10:09:02.055446",
     "exception": false,
     "start_time": "2025-05-04T10:09:02.049131",
     "status": "completed"
    },
    "tags": []
   },
   "source": [
    "### 1.3 Accessing and Modifying Dictionary Elements\n",
    "\n",
    "Once a dictionary is created, you can access and modify its elements using various methods.\n",
    "\n",
    "#### Accessing Values by Key\n",
    "\n",
    "- To retrieve the value associated with a specific key, use the following syntax:\n",
    "\n",
    "```python\n",
    "value = dictionary_name[key]\n",
    "```\n",
    "\n",
    "**Example:**\n",
    "```python\n",
    "# Accessing the age of 'Madiha'\n",
    "Madiha_age = ages['Madiha']\n",
    "print(f\"The age of Madiha is {Madiha_age} years.\")\n",
    "```"
   ]
  },
  {
   "cell_type": "code",
   "execution_count": 2,
   "id": "e80a4389",
   "metadata": {
    "execution": {
     "iopub.execute_input": "2025-05-04T10:09:02.069960Z",
     "iopub.status.busy": "2025-05-04T10:09:02.069656Z",
     "iopub.status.idle": "2025-05-04T10:09:02.074984Z",
     "shell.execute_reply": "2025-05-04T10:09:02.074030Z"
    },
    "papermill": {
     "duration": 0.014168,
     "end_time": "2025-05-04T10:09:02.076403",
     "exception": false,
     "start_time": "2025-05-04T10:09:02.062235",
     "status": "completed"
    },
    "tags": []
   },
   "outputs": [
    {
     "name": "stdout",
     "output_type": "stream",
     "text": [
      "The age of Madiha is 16 years.\n"
     ]
    }
   ],
   "source": [
    "Madiha_age = ages['Madiha']\n",
    "print(f\"The age of Madiha is {Madiha_age} years.\")"
   ]
  },
  {
   "cell_type": "markdown",
   "id": "8145833a",
   "metadata": {
    "papermill": {
     "duration": 0.006524,
     "end_time": "2025-05-04T10:09:02.089921",
     "exception": false,
     "start_time": "2025-05-04T10:09:02.083397",
     "status": "completed"
    },
    "tags": []
   },
   "source": [
    "#### Modifying Values\n",
    "\n",
    "- To modify the value associated with a key, use the key within the assignment statement:\n",
    "\n",
    "```python\n",
    "dictionary_name[key] = new_value\n",
    "```\n",
    "\n",
    "**Example:**\n",
    "```python\n",
    "# Modifying Mujtaba's age\n",
    "ages['Mujtaba'] = 26\n",
    "print(f\"Updated age of Mujtaba: {ages['Mujtaba']} years.\")\n",
    "```"
   ]
  },
  {
   "cell_type": "code",
   "execution_count": 3,
   "id": "20100722",
   "metadata": {
    "execution": {
     "iopub.execute_input": "2025-05-04T10:09:02.104947Z",
     "iopub.status.busy": "2025-05-04T10:09:02.104215Z",
     "iopub.status.idle": "2025-05-04T10:09:02.109518Z",
     "shell.execute_reply": "2025-05-04T10:09:02.108676Z"
    },
    "papermill": {
     "duration": 0.014049,
     "end_time": "2025-05-04T10:09:02.110759",
     "exception": false,
     "start_time": "2025-05-04T10:09:02.096710",
     "status": "completed"
    },
    "tags": []
   },
   "outputs": [
    {
     "name": "stdout",
     "output_type": "stream",
     "text": [
      "Updated age of Mujtaba: 26 years.\n",
      "New age of Madiha: 16 years.\n"
     ]
    }
   ],
   "source": [
    "ages['Mujtaba'] = 26\n",
    "ages['Madiha'] = 16\n",
    "print(f\"Updated age of Mujtaba: {ages['Mujtaba']} years.\")\n",
    "print(f\"New age of Madiha: {ages['Madiha']} years.\")"
   ]
  },
  {
   "cell_type": "markdown",
   "id": "e1a9c8fa",
   "metadata": {
    "papermill": {
     "duration": 0.006753,
     "end_time": "2025-05-04T10:09:02.124878",
     "exception": false,
     "start_time": "2025-05-04T10:09:02.118125",
     "status": "completed"
    },
    "tags": []
   },
   "source": [
    "#### Adding New Key-Value Pairs\n",
    "\n",
    "- To add a new key-value pair to the dictionary, use the following syntax:\n",
    "\n",
    "```python\n",
    "dictionary_name[new_key] = new_value\n",
    "```\n",
    "\n",
    "**Example:**\n",
    "```python\n",
    "# Adding a new person and age to the dictionary\n",
    "ages['Ali'] = 35\n",
    "print(f\"The age of Ali is {ages['Ali']} years.\")\n",
    "```\n",
    "\n",
    "*Side Note: If the specified key already exists when adding a new key-value pair, the associated value will be updated.*"
   ]
  },
  {
   "cell_type": "code",
   "execution_count": 4,
   "id": "aceafe58",
   "metadata": {
    "execution": {
     "iopub.execute_input": "2025-05-04T10:09:02.140048Z",
     "iopub.status.busy": "2025-05-04T10:09:02.139762Z",
     "iopub.status.idle": "2025-05-04T10:09:02.146901Z",
     "shell.execute_reply": "2025-05-04T10:09:02.146163Z"
    },
    "papermill": {
     "duration": 0.016192,
     "end_time": "2025-05-04T10:09:02.148113",
     "exception": false,
     "start_time": "2025-05-04T10:09:02.131921",
     "status": "completed"
    },
    "tags": []
   },
   "outputs": [
    {
     "name": "stdout",
     "output_type": "stream",
     "text": [
      "The age of David is 35 years.\n"
     ]
    },
    {
     "data": {
      "text/plain": [
       "{'Mujtaba': 26, 'Madiha': 16, 'Irum': 22, 'Ali': 35, 'Abbas': 35}"
      ]
     },
     "execution_count": 4,
     "metadata": {},
     "output_type": "execute_result"
    }
   ],
   "source": [
    "ages['Ali'] = 35\n",
    "ages[\"Abbas\"] = 35\n",
    "print(f\"The age of David is {ages['Ali']} years.\")\n",
    "ages"
   ]
  },
  {
   "cell_type": "markdown",
   "id": "a6920b73",
   "metadata": {
    "papermill": {
     "duration": 0.006728,
     "end_time": "2025-05-04T10:09:02.161881",
     "exception": false,
     "start_time": "2025-05-04T10:09:02.155153",
     "status": "completed"
    },
    "tags": []
   },
   "source": [
    "### 1.4 Dictionary Methods\n",
    "\n",
    "Dictionaries in Python come with a variety of built-in methods that offer convenient ways to manipulate and work with dictionary data.\n",
    "\n",
    "#### `keys()`, `values()`, `items()`\n",
    "\n",
    "- These methods provide views of the keys, values, and key-value pairs in the dictionary, respectively."
   ]
  },
  {
   "cell_type": "markdown",
   "id": "a150dbdd",
   "metadata": {
    "papermill": {
     "duration": 0.006613,
     "end_time": "2025-05-04T10:09:02.175375",
     "exception": false,
     "start_time": "2025-05-04T10:09:02.168762",
     "status": "completed"
    },
    "tags": []
   },
   "source": [
    "**Example:**\n",
    "```python\n",
    "# Using dictionary methods\n",
    "ages = {'Ali': 25, 'Madiha': 30, 'Elya': 22}\n",
    "\n",
    "# Getting a view of keys\n",
    "all_keys = ages.keys()\n",
    "print(f\"Keys: {all_keys}\")\n",
    "\n",
    "# Getting a view of values\n",
    "all_values = ages.values()\n",
    "print(f\"Values: {all_values}\")\n",
    "\n",
    "# Getting a view of key-value pairs\n",
    "all_items = ages.items()\n",
    "print(f\"Key-Value Pairs: {all_items}\")\n",
    "```"
   ]
  },
  {
   "cell_type": "code",
   "execution_count": 5,
   "id": "72e665f8",
   "metadata": {
    "execution": {
     "iopub.execute_input": "2025-05-04T10:09:02.190239Z",
     "iopub.status.busy": "2025-05-04T10:09:02.189975Z",
     "iopub.status.idle": "2025-05-04T10:09:02.195533Z",
     "shell.execute_reply": "2025-05-04T10:09:02.194782Z"
    },
    "papermill": {
     "duration": 0.014588,
     "end_time": "2025-05-04T10:09:02.196870",
     "exception": false,
     "start_time": "2025-05-04T10:09:02.182282",
     "status": "completed"
    },
    "tags": []
   },
   "outputs": [
    {
     "name": "stdout",
     "output_type": "stream",
     "text": [
      "Keys: dict_keys(['Ali', 'Mujtaba', 'Madiha', 'Elya'])\n",
      "Values: dict_values([25, 26, 18, 24])\n",
      "Key-Value Pairs: dict_items([('Ali', 25), ('Mujtaba', 26), ('Madiha', 18), ('Elya', 24)])\n"
     ]
    }
   ],
   "source": [
    "# Using dictionary methods\n",
    "ages = {'Ali': 25, 'Mujtaba': 26, 'Madiha': 18, \"Elya\":24}\n",
    "\n",
    "# Getting a view of keys\n",
    "all_keys = ages.keys()\n",
    "print(f\"Keys: {all_keys}\")\n",
    "\n",
    "# Getting a view of values\n",
    "all_values = ages.values()\n",
    "print(f\"Values: {all_values}\")\n",
    "\n",
    "# Getting a view of key-value pairs\n",
    "all_items = ages.items()\n",
    "print(f\"Key-Value Pairs: {all_items}\")"
   ]
  },
  {
   "cell_type": "markdown",
   "id": "80376328",
   "metadata": {
    "papermill": {
     "duration": 0.00697,
     "end_time": "2025-05-04T10:09:02.210989",
     "exception": false,
     "start_time": "2025-05-04T10:09:02.204019",
     "status": "completed"
    },
    "tags": []
   },
   "source": [
    "#### `get()` and `setdefault()`\n",
    "\n",
    "- The `get()` method allows safe retrieval of a value by key, and `setdefault()` sets a default value if the key is not present.\n",
    "\n",
    "**Example:**\n",
    "```python\n",
    "# Using get() to safely retrieve a value\n",
    "age_of_ali = ages.get('Ali', 'Age not available')\n",
    "print(f\"The age of Ali is {age_of_ali} years.\")\n",
    "\n",
    "# Using setdefault() to set a default value\n",
    "age_of_elya = ages.setdefault('Elya', 28)\n",
    "print(f\"The age of Elya is {age_of_elya} years.\")\n",
    "```\n",
    "\n",
    "*Side Note: The `get()` method is useful to avoid KeyError when attempting to access a non-existent key, while `setdefault()` helps in providing default values for new keys.*"
   ]
  },
  {
   "cell_type": "code",
   "execution_count": 6,
   "id": "723f45ab",
   "metadata": {
    "execution": {
     "iopub.execute_input": "2025-05-04T10:09:02.226711Z",
     "iopub.status.busy": "2025-05-04T10:09:02.225868Z",
     "iopub.status.idle": "2025-05-04T10:09:02.231276Z",
     "shell.execute_reply": "2025-05-04T10:09:02.230339Z"
    },
    "papermill": {
     "duration": 0.0145,
     "end_time": "2025-05-04T10:09:02.232521",
     "exception": false,
     "start_time": "2025-05-04T10:09:02.218021",
     "status": "completed"
    },
    "tags": []
   },
   "outputs": [
    {
     "name": "stdout",
     "output_type": "stream",
     "text": [
      "The age of Ali is 25 years.\n",
      "The age of Elya is 24 years.\n"
     ]
    }
   ],
   "source": [
    "# Using get() to safely retrieve a value\n",
    "age_of_ali = ages.get('Ali', 'Age not available')\n",
    "print(f\"The age of Ali is {age_of_ali} years.\")\n",
    "\n",
    "# Using setdefault() to set a default value\n",
    "age_of_elya = ages.setdefault('Elya', 28)\n",
    "print(f\"The age of Elya is {age_of_elya} years.\")"
   ]
  },
  {
   "cell_type": "code",
   "execution_count": 7,
   "id": "75437326",
   "metadata": {
    "execution": {
     "iopub.execute_input": "2025-05-04T10:09:02.248189Z",
     "iopub.status.busy": "2025-05-04T10:09:02.247471Z",
     "iopub.status.idle": "2025-05-04T10:09:02.252774Z",
     "shell.execute_reply": "2025-05-04T10:09:02.252033Z"
    },
    "papermill": {
     "duration": 0.014255,
     "end_time": "2025-05-04T10:09:02.253950",
     "exception": false,
     "start_time": "2025-05-04T10:09:02.239695",
     "status": "completed"
    },
    "tags": []
   },
   "outputs": [
    {
     "name": "stdout",
     "output_type": "stream",
     "text": [
      "City: Unknown\n",
      "Updated Dictionary: {'name': 'Mujtaba', 'age': 25, 'city': 'Unknown'}\n"
     ]
    }
   ],
   "source": [
    "my_dict = {'name': 'Mujtaba', 'age': 25}\n",
    "\n",
    "# Using setdefault to retrieve the value for 'city'\n",
    "city = my_dict.setdefault('city', 'Unknown')\n",
    "\n",
    "print(\"City:\", city)  # Output: City: Unknown\n",
    "print(\"Updated Dictionary:\", my_dict)\n",
    "# Output: Updated Dictionary: {'name': 'Mujtaba', 'age': 25, 'city': 'Unknown'}"
   ]
  },
  {
   "cell_type": "markdown",
   "id": "34624d68",
   "metadata": {
    "papermill": {
     "duration": 0.006793,
     "end_time": "2025-05-04T10:09:02.267856",
     "exception": false,
     "start_time": "2025-05-04T10:09:02.261063",
     "status": "completed"
    },
    "tags": []
   },
   "source": [
    "### 1.5 Iterating Through a Dictionary\n",
    "\n",
    "Iterating through a dictionary allows you to access its keys, values, or key-value pairs systematically.\n",
    "\n",
    "#### Looping Through Keys, Values, and Items\n",
    "\n",
    "- The `for` loop is commonly used to iterate through different aspects of a dictionary."
   ]
  },
  {
   "cell_type": "markdown",
   "id": "a9fb190b",
   "metadata": {
    "papermill": {
     "duration": 0.006873,
     "end_time": "2025-05-04T10:09:02.281962",
     "exception": false,
     "start_time": "2025-05-04T10:09:02.275089",
     "status": "completed"
    },
    "tags": []
   },
   "source": [
    "**Example:**\n",
    "```python\n",
    "# Iterating through keys\n",
    "for key in ages:\n",
    "    print(f\"Key: {key}\")\n",
    "\n",
    "# Iterating through values\n",
    "for value in ages.values():\n",
    "    print(f\"Value: {value}\")\n",
    "\n",
    "# Iterating through key-value pairs\n",
    "for key, value in ages.items():\n",
    "    print(f\"{key}'s age is {value} years.\")\n",
    "```"
   ]
  },
  {
   "cell_type": "code",
   "execution_count": 8,
   "id": "2e4f88c5",
   "metadata": {
    "execution": {
     "iopub.execute_input": "2025-05-04T10:09:02.297376Z",
     "iopub.status.busy": "2025-05-04T10:09:02.297060Z",
     "iopub.status.idle": "2025-05-04T10:09:02.302768Z",
     "shell.execute_reply": "2025-05-04T10:09:02.301786Z"
    },
    "papermill": {
     "duration": 0.014999,
     "end_time": "2025-05-04T10:09:02.304034",
     "exception": false,
     "start_time": "2025-05-04T10:09:02.289035",
     "status": "completed"
    },
    "tags": []
   },
   "outputs": [
    {
     "name": "stdout",
     "output_type": "stream",
     "text": [
      "Key: Ali\n",
      "Key: Mujtaba\n",
      "Key: Madiha\n",
      "Key: Elya\n",
      "Value: 25\n",
      "Value: 26\n",
      "Value: 18\n",
      "Value: 24\n",
      "Ali's age is 25 years.\n",
      "Mujtaba's age is 26 years.\n",
      "Madiha's age is 18 years.\n",
      "Elya's age is 24 years.\n"
     ]
    }
   ],
   "source": [
    "# Iterating through keys\n",
    "for key in ages: #.keys()\n",
    "    print(f\"Key: {key}\")\n",
    "\n",
    "# Iterating through values\n",
    "for value in ages.values():\n",
    "    print(f\"Value: {value}\")\n",
    "\n",
    "# Iterating through key-value pairs\n",
    "for key, value in ages.items():\n",
    "    print(f\"{key}'s age is {value} years.\")"
   ]
  },
  {
   "cell_type": "markdown",
   "id": "d2994cf4",
   "metadata": {
    "papermill": {
     "duration": 0.070047,
     "end_time": "2025-05-04T10:09:02.381350",
     "exception": false,
     "start_time": "2025-05-04T10:09:02.311303",
     "status": "completed"
    },
    "tags": []
   },
   "source": [
    "#### Example: Iterating Through a Dictionary\n",
    "\n",
    "Suppose you want to find and print the names of individuals above a certain age:\n",
    "\n",
    "```python\n",
    "# Iterating through keys and values to find names above a certain age\n",
    "for name, age in ages.items():\n",
    "    if age > 25:\n",
    "        print(f\"{name} is above 25 years old.\")\n",
    "```\n",
    "\n",
    "*Side Note: The order of iteration is not guaranteed to be in the same order as items were inserted into the dictionary. If order matters, use `collections.OrderedDict`.*"
   ]
  },
  {
   "cell_type": "code",
   "execution_count": 9,
   "id": "1d6fd999",
   "metadata": {
    "execution": {
     "iopub.execute_input": "2025-05-04T10:09:02.396899Z",
     "iopub.status.busy": "2025-05-04T10:09:02.396598Z",
     "iopub.status.idle": "2025-05-04T10:09:02.401399Z",
     "shell.execute_reply": "2025-05-04T10:09:02.400536Z"
    },
    "papermill": {
     "duration": 0.014255,
     "end_time": "2025-05-04T10:09:02.402824",
     "exception": false,
     "start_time": "2025-05-04T10:09:02.388569",
     "status": "completed"
    },
    "tags": []
   },
   "outputs": [
    {
     "name": "stdout",
     "output_type": "stream",
     "text": [
      "Mujtaba is above 25 years old.\n"
     ]
    }
   ],
   "source": [
    "# Iterating through keys and values to find names above a certain age\n",
    "for name, age in ages.items():\n",
    "    if age > 25:\n",
    "        print(f\"{name} is above 25 years old.\")"
   ]
  },
  {
   "cell_type": "markdown",
   "id": "64a19c7e",
   "metadata": {
    "papermill": {
     "duration": 0.00713,
     "end_time": "2025-05-04T10:09:02.417490",
     "exception": false,
     "start_time": "2025-05-04T10:09:02.410360",
     "status": "completed"
    },
    "tags": []
   },
   "source": [
    "### 1.6 Nested Dictionaries\n",
    "\n",
    "In Python, dictionaries can be nested within one another, allowing for the creation of more complex data structures.\n",
    "\n",
    "#### Definition and Structure\n",
    "\n",
    "- **Nested Dictionary:** A dictionary that is a value within another dictionary.\n",
    "\n",
    "**Example:**\n",
    "```python\n",
    "# Creating a nested dictionary\n",
    "employee_data = {\n",
    "    'Mujtaba': {'age': 26, 'position': 'Manager'},\n",
    "    'Madiha': {'age': 16, 'position': 'Developer'},\n",
    "    'Irum': {'age': 23, 'position': 'Designer'}\n",
    "}\n",
    "```"
   ]
  },
  {
   "cell_type": "code",
   "execution_count": 10,
   "id": "bc9d6d0f",
   "metadata": {
    "execution": {
     "iopub.execute_input": "2025-05-04T10:09:02.433882Z",
     "iopub.status.busy": "2025-05-04T10:09:02.433299Z",
     "iopub.status.idle": "2025-05-04T10:09:02.437624Z",
     "shell.execute_reply": "2025-05-04T10:09:02.436746Z"
    },
    "papermill": {
     "duration": 0.014394,
     "end_time": "2025-05-04T10:09:02.439177",
     "exception": false,
     "start_time": "2025-05-04T10:09:02.424783",
     "status": "completed"
    },
    "tags": []
   },
   "outputs": [],
   "source": [
    "employee_data = {\n",
    "    'Mujtaba': {'age': 26, 'position': 'Manager'},\n",
    "    'Madiha': {'age': 16, 'position': 'Developer'},\n",
    "    'Irum': {'age': 23, 'position': 'Designer'}\n",
    "}"
   ]
  },
  {
   "cell_type": "markdown",
   "id": "6efd182c",
   "metadata": {
    "papermill": {
     "duration": 0.007022,
     "end_time": "2025-05-04T10:09:02.454027",
     "exception": false,
     "start_time": "2025-05-04T10:09:02.447005",
     "status": "completed"
    },
    "tags": []
   },
   "source": [
    "#### Accessing and Modifying Nested Elements\n",
    "\n",
    "- To access or modify values within a nested dictionary, use multiple square brackets to navigate through the levels.\n",
    "\n",
    "**Example:**\n",
    "```python\n",
    "# Accessing Irum's age\n",
    "Irum_age = employee_data['Irum']['age']\n",
    "print(f\"Irum's age: {Irum_age}\")\n",
    "\n",
    "# Modifying Mujtaba's position\n",
    "employee_data['Mujtaba']['position'] = 'Senior Manager'\n",
    "print(f\"Mujtaba's updated position: {employee_data['Mujtaba']['position']}\")\n",
    "```\n",
    "\n",
    "*Side Note: Nesting dictionaries is particularly useful when dealing with structured data, such as information about employees, where each employee has multiple attributes.*"
   ]
  },
  {
   "cell_type": "code",
   "execution_count": 11,
   "id": "ee91c068",
   "metadata": {
    "execution": {
     "iopub.execute_input": "2025-05-04T10:09:02.469908Z",
     "iopub.status.busy": "2025-05-04T10:09:02.469274Z",
     "iopub.status.idle": "2025-05-04T10:09:02.474291Z",
     "shell.execute_reply": "2025-05-04T10:09:02.473500Z"
    },
    "papermill": {
     "duration": 0.014399,
     "end_time": "2025-05-04T10:09:02.475725",
     "exception": false,
     "start_time": "2025-05-04T10:09:02.461326",
     "status": "completed"
    },
    "tags": []
   },
   "outputs": [
    {
     "name": "stdout",
     "output_type": "stream",
     "text": [
      "Irum's age: 23\n",
      "Mujtaba's updated position: Senior Manager\n"
     ]
    }
   ],
   "source": [
    "# Accessing Irum's age\n",
    "Irum_age = employee_data['Irum']['age']\n",
    "print(f\"Irum's age: {Irum_age}\")\n",
    "\n",
    "# Modifying Mujtaba's position\n",
    "employee_data['Mujtaba']['position'] = 'Senior Manager'\n",
    "print(f\"Mujtaba's updated position: {employee_data['Mujtaba']['position']}\")"
   ]
  },
  {
   "cell_type": "markdown",
   "id": "515dfd0f",
   "metadata": {
    "papermill": {
     "duration": 0.00698,
     "end_time": "2025-05-04T10:09:02.489979",
     "exception": false,
     "start_time": "2025-05-04T10:09:02.482999",
     "status": "completed"
    },
    "tags": []
   },
   "source": [
    "### 1.7 Practical Applications\n",
    "\n",
    "Dictionaries play a crucial role in various real-world scenarios, offering a flexible and efficient way to manage and organize data.\n",
    "\n",
    "#### Use Cases in Real-World Scenarios\n",
    "\n",
    "1. **Database Records:**\n",
    "   - Dictionaries can represent database records, where each key-value pair corresponds to a field and its value. For example, a user profile may include keys like 'username', 'email', and 'age'."
   ]
  },
  {
   "cell_type": "markdown",
   "id": "c97ce0b9",
   "metadata": {
    "papermill": {
     "duration": 0.006981,
     "end_time": "2025-05-04T10:09:02.504220",
     "exception": false,
     "start_time": "2025-05-04T10:09:02.497239",
     "status": "completed"
    },
    "tags": []
   },
   "source": [
    "2. **Configuration Settings:**\n",
    "   - Dictionaries are often used to store configuration settings for applications. Keys can represent different settings, and values hold the corresponding configurations.\n",
    "\n",
    "3. **Data Analysis:**\n",
    "   - In data analysis, dictionaries are useful for storing and manipulating data. For instance, a dictionary could hold information about sales figures, with product names as keys and sales amounts as values.\n",
    "\n",
    "4. **API Responses:**\n",
    "   - When working with APIs, responses are often in the form of dictionaries. Keys represent different attributes, and values contain the corresponding data."
   ]
  },
  {
   "cell_type": "markdown",
   "id": "8437c39c",
   "metadata": {
    "papermill": {
     "duration": 0.007219,
     "end_time": "2025-05-04T10:09:02.518475",
     "exception": false,
     "start_time": "2025-05-04T10:09:02.511256",
     "status": "completed"
    },
    "tags": []
   },
   "source": [
    "#### Efficiency and Flexibility of Dictionaries\n",
    "\n",
    "- Dictionaries provide quick and direct access to values through keys, making them efficient for tasks such as data retrieval and modification. Their flexibility in handling various data types and structures makes them a versatile choice for developers.\n",
    "\n",
    "**Example:**\n",
    "```python\n",
    "# Example of a dictionary representing a user profile\n",
    "user_profile = {\n",
    "    'username': 'Mujtaba ALi',\n",
    "    'email': 'Mujtaba@example.com',\n",
    "    'age': 26,\n",
    "    'is_admin': False\n",
    "}\n",
    "```\n",
    "\n",
    "*Side Note: Understanding the practical applications of dictionaries enhances a programmer's ability to design efficient and structured solutions.*"
   ]
  },
  {
   "cell_type": "markdown",
   "id": "a61018c4",
   "metadata": {
    "papermill": {
     "duration": 0.006678,
     "end_time": "2025-05-04T10:09:02.532442",
     "exception": false,
     "start_time": "2025-05-04T10:09:02.525764",
     "status": "completed"
    },
    "tags": []
   },
   "source": [
    "*Reflection Questions:*\n",
    "1. What is the primary purpose of dictionaries in Python?\n",
    "   - a) Storing only numerical data\n",
    "   - b) Managing key-value pairs\n",
    "   - c) Sorting elements in ascending order\n",
    "   - d) Performing mathematical operations\n",
    "\n",
    "<details>\n",
    "<summary>Click to reveal the answer:</summary>\n",
    "b) Managing key-value pairs"
   ]
  },
  {
   "cell_type": "markdown",
   "id": "dc52b1db",
   "metadata": {
    "execution": {
     "iopub.execute_input": "2025-05-01T09:37:33.682299Z",
     "iopub.status.busy": "2025-05-01T09:37:33.681949Z",
     "iopub.status.idle": "2025-05-01T09:37:33.694697Z",
     "shell.execute_reply": "2025-05-01T09:37:33.693444Z",
     "shell.execute_reply.started": "2025-05-01T09:37:33.682273Z"
    },
    "papermill": {
     "duration": 0.00682,
     "end_time": "2025-05-04T10:09:02.546390",
     "exception": false,
     "start_time": "2025-05-04T10:09:02.539570",
     "status": "completed"
    },
    "tags": []
   },
   "source": [
    "2. What is the fundamental difference between dictionaries and lists in Python?\n",
    "   - a) Lists use keys, dictionaries use indexes.\n",
    "   - b) Lists store values, dictionaries store pairs.\n",
    "   - c) Lists are mutable, dictionaries are immutable.\n",
    "   - d) Lists have a fixed size, dictionaries can grow dynamically.\n",
    "\n",
    "<details>\n",
    "<summary>Click to reveal the answer:</summary>\n",
    "b) Lists store values, dictionaries store pairs."
   ]
  },
  {
   "cell_type": "markdown",
   "id": "3b77ca58",
   "metadata": {
    "papermill": {
     "duration": 0.006868,
     "end_time": "2025-05-04T10:09:02.560185",
     "exception": false,
     "start_time": "2025-05-04T10:09:02.553317",
     "status": "completed"
    },
    "tags": []
   },
   "source": [
    "3. Why are dictionaries considered efficient for data retrieval?\n",
    "   - a) Values are stored in a sequential order.\n",
    "   - b) Elements can be accessed by index.\n",
    "   - c) Data is organized as key-value pairs.\n",
    "   - d) Dictionaries have a fixed size.\n",
    "\n",
    "<details>\n",
    "<summary>Click to reveal the answer:</summary>\n",
    "c) Data is organized as key-value pairs."
   ]
  },
  {
   "cell_type": "markdown",
   "id": "64019ca6",
   "metadata": {
    "papermill": {
     "duration": 0.006809,
     "end_time": "2025-05-04T10:09:02.574082",
     "exception": false,
     "start_time": "2025-05-04T10:09:02.567273",
     "status": "completed"
    },
    "tags": []
   },
   "source": [
    "4. How would you describe a key in a dictionary?\n",
    "   - a) A value associated with a specific data type.\n",
    "   - b) An index indicating the position of an element.\n",
    "   - c) A unique identifier for a value.\n",
    "   - d) A numerical representation of data.\n",
    "\n",
    "<details>\n",
    "<summary>Click to reveal the answer:</summary>\n",
    "c) A unique identifier for a value."
   ]
  },
  {
   "cell_type": "markdown",
   "id": "b098c27e",
   "metadata": {
    "papermill": {
     "duration": 0.006881,
     "end_time": "2025-05-04T10:09:02.588219",
     "exception": false,
     "start_time": "2025-05-04T10:09:02.581338",
     "status": "completed"
    },
    "tags": []
   },
   "source": [
    "5. What is the purpose of curly braces in the basic syntax of creating dictionaries?\n",
    "   - a) To indicate the type of data being stored.\n",
    "   - b) To create a block of code.\n",
    "   - c) To represent a set of key-value pairs.\n",
    "   - d) To define the scope of the dictionary.\n",
    "   \n",
    "   <details>\n",
    "<summary>Click to reveal the answer:</summary>\n",
    "c) To represent a set of key-value pairs."
   ]
  },
  {
   "cell_type": "markdown",
   "id": "64dcc5cd",
   "metadata": {
    "papermill": {
     "duration": 0.007066,
     "end_time": "2025-05-04T10:09:02.602531",
     "exception": false,
     "start_time": "2025-05-04T10:09:02.595465",
     "status": "completed"
    },
    "tags": []
   },
   "source": [
    "6. In the example provided, what are the keys and values in the `ages` dictionary?\n",
    "   - a) Keys: 25, 16, 22; Values: 'Ali', 'Madiha', 'Irum'\n",
    "   - b) Keys: 'Ali', 'Madiha', 'Irum'; Values: 25, 16, 22\n",
    "   - c) Keys: 25, 'Madiha', 22; Values: 'Ali', 'Irum', 16\n",
    "   - d) Keys: 'Ali', 'Madiha', 'Irum'; Values: 25, 16, 22\n",
    "   \n",
    "<details>\n",
    "<summary>Click to reveal the answer:</summary>\n",
    "Keys: 'Ali', 'Madiha', 'Irum'; Values: 25, 16, 22"
   ]
  },
  {
   "cell_type": "markdown",
   "id": "a51d9e33",
   "metadata": {
    "papermill": {
     "duration": 0.006988,
     "end_time": "2025-05-04T10:09:02.616772",
     "exception": false,
     "start_time": "2025-05-04T10:09:02.609784",
     "status": "completed"
    },
    "tags": []
   },
   "source": [
    "7. Why is it important for keys to be unique within a dictionary?\n",
    "   - a) It simplifies the syntax of dictionary creation.\n",
    "   - b) It ensures efficient data retrieval.\n",
    "   - c) It allows for the use of duplicate keys.\n",
    "   - d) It is a convention but not a requirement.\n",
    "   \n",
    "<details>\n",
    "<summary>Click to reveal the answer:</summary>\n",
    "b) It ensures efficient data retrieval."
   ]
  },
  {
   "cell_type": "markdown",
   "id": "8eec3a93",
   "metadata": {
    "papermill": {
     "duration": 0.007004,
     "end_time": "2025-05-04T10:09:02.630995",
     "exception": false,
     "start_time": "2025-05-04T10:09:02.623991",
     "status": "completed"
    },
    "tags": []
   },
   "source": [
    "8. How is a specific value accessed in a dictionary using its key?\n",
    "   - a) By using the `value` method\n",
    "   - b) Using the `index()` function\n",
    "   - c) Through key-based indexing\n",
    "   - d) With the `find()` method\n",
    "   \n",
    "   <details>\n",
    "<summary>Click to reveal the answer:</summary>\n",
    "c) Through key-based indexing"
   ]
  },
  {
   "cell_type": "markdown",
   "id": "313ef199",
   "metadata": {
    "papermill": {
     "duration": 0.007018,
     "end_time": "2025-05-04T10:09:02.645595",
     "exception": false,
     "start_time": "2025-05-04T10:09:02.638577",
     "status": "completed"
    },
    "tags": []
   },
   "source": [
    "9. In the example provided, how is Ali's age modified in the `ages` dictionary?\n",
    "   - a) `ages['Ali'] = 26`\n",
    "   - b) `ages.modify('Ali', 26)`\n",
    "   - c) `ages.update('Ali', 26)`\n",
    "   - d) `ages.set('Ali', 26)`\n",
    "   \n",
    "   <details>\n",
    "<summary>Click to reveal the answer:</summary>\n",
    "`ages['Ali'] = 26`"
   ]
  },
  {
   "cell_type": "markdown",
   "id": "1845a7f6",
   "metadata": {
    "papermill": {
     "duration": 0.007299,
     "end_time": "2025-05-04T10:09:02.660061",
     "exception": false,
     "start_time": "2025-05-04T10:09:02.652762",
     "status": "completed"
    },
    "tags": []
   },
   "source": [
    "10. How can you add a new key-value pair to an existing dictionary?\n",
    "   - a) Using the `append()` function\n",
    "   - b) Assigning a value to a new key\n",
    "   - c) Merging two dictionaries\n",
    "   - d) Creating a new dictionary and copying values\n",
    "   \n",
    "<details>\n",
    "<summary>Click to reveal the answer:</summary>\n",
    "b) Assigning a value to a new key"
   ]
  },
  {
   "cell_type": "markdown",
   "id": "968b0f36",
   "metadata": {
    "papermill": {
     "duration": 0.006895,
     "end_time": "2025-05-04T10:09:02.674266",
     "exception": false,
     "start_time": "2025-05-04T10:09:02.667371",
     "status": "completed"
    },
    "tags": []
   },
   "source": [
    "11. Which method is used to obtain a list of all keys in a dictionary?\n",
    "   - a) `keys()`\n",
    "   - b) `list()`\n",
    "   - c) `get()`\n",
    "   - d) `items()`\n",
    "\n",
    "<details>\n",
    "<summary>Click to reveal the answer:</summary>\n",
    "a) `keys()`"
   ]
  },
  {
   "cell_type": "markdown",
   "id": "100b5e1d",
   "metadata": {
    "papermill": {
     "duration": 0.008411,
     "end_time": "2025-05-04T10:09:02.689878",
     "exception": false,
     "start_time": "2025-05-04T10:09:02.681467",
     "status": "completed"
    },
    "tags": []
   },
   "source": [
    "12. What is the purpose of the `keys()`, `values()`, and `items()` methods in dictionaries?\n",
    "   - a) To remove elements from the dictionary\n",
    "   - b) To retrieve views of keys, values, and key-value pairs\n",
    "   - c) To sort the dictionary in alphabetical order\n",
    "   - d) To modify the keys, values, and items in the dictionary\n",
    "\n",
    "<details>\n",
    "<summary>Click to reveal the answer:</summary>\n",
    "b) To retrieve views of keys, values, and key-value pairs"
   ]
  },
  {
   "cell_type": "markdown",
   "id": "8259b11f",
   "metadata": {
    "execution": {
     "iopub.execute_input": "2025-05-02T10:27:58.786554Z",
     "iopub.status.busy": "2025-05-02T10:27:58.786198Z",
     "iopub.status.idle": "2025-05-02T10:27:58.794553Z",
     "shell.execute_reply": "2025-05-02T10:27:58.792784Z",
     "shell.execute_reply.started": "2025-05-02T10:27:58.786530Z"
    },
    "papermill": {
     "duration": 0.007098,
     "end_time": "2025-05-04T10:09:02.704411",
     "exception": false,
     "start_time": "2025-05-04T10:09:02.697313",
     "status": "completed"
    },
    "tags": []
   },
   "source": [
    "13. In the example provided, what will be the output of `all_keys`?\n",
    "   - a) `[Ali, Madiha, Elya]`\n",
    "   - b) `['Ali', 'Madiha', 'Elya']`\n",
    "   - c) `(Ali, Madiha, Elya)`\n",
    "   - d) `{Ali, Madiha, Elya}`\n",
    "\n",
    "<details>\n",
    "<summary>Click to reveal the answer:</summary>\n",
    "b) `['Ali', 'Madiha', 'Elya']`"
   ]
  },
  {
   "cell_type": "markdown",
   "id": "9ef6fd9b",
   "metadata": {
    "papermill": {
     "duration": 0.007072,
     "end_time": "2025-05-04T10:09:02.718840",
     "exception": false,
     "start_time": "2025-05-04T10:09:02.711768",
     "status": "completed"
    },
    "tags": []
   },
   "source": [
    "14. When might you use the `get()` method instead of directly accessing a key in a dictionary?\n",
    "   - a) When you want to add a new key-value pair.\n",
    "   - b) When you want to retrieve a value safely without risking a KeyError.\n",
    "   - c) When you want to remove a key from the dictionary.\n",
    "   - d) When you want to reverse the order of keys in the dictionary.\n",
    "\n",
    "<details>\n",
    "<summary>Click to reveal the answer:</summary>\n",
    "b) When you want to retrieve a value safely without risking a KeyError."
   ]
  },
  {
   "cell_type": "markdown",
   "id": "e51cf9ef",
   "metadata": {
    "papermill": {
     "duration": 0.006952,
     "end_time": "2025-05-04T10:09:02.733000",
     "exception": false,
     "start_time": "2025-05-04T10:09:02.726048",
     "status": "completed"
    },
    "tags": []
   },
   "source": [
    "15. In the provided example, what does the `for key in ages` loop achieve?\n",
    "   - a) Iterates through values in the dictionary\n",
    "   - b) Iterates through keys in the dictionary\n",
    "   - c) Iterates through key-value pairs in the dictionary\n",
    "   - d) Creates a new dictionary with keys as values and vice versa\n",
    "\n",
    "<details>\n",
    "<summary>Click to reveal the answer:</summary>\n",
    "b) Iterates through keys in the dictionary"
   ]
  },
  {
   "cell_type": "markdown",
   "id": "83eca8d5",
   "metadata": {
    "papermill": {
     "duration": 0.007013,
     "end_time": "2025-05-04T10:09:02.747390",
     "exception": false,
     "start_time": "2025-05-04T10:09:02.740377",
     "status": "completed"
    },
    "tags": []
   },
   "source": [
    "16. Why is the order of iteration not guaranteed to be the same as the order of items inserted into the dictionary?\n",
    "   - a) Dictionaries automatically randomize their order for efficiency.\n",
    "   - b) Python dictionaries use hash tables for efficient key lookup.\n",
    "   - c) Iteration order is determined by the size of the dictionary.\n",
    "   - d) It is guaranteed, and the statement is incorrect.\n",
    "\n",
    "<details>\n",
    "<summary>Click to reveal the answer:</summary>\n",
    "b) Python dictionaries use hash tables for efficient key lookup."
   ]
  },
  {
   "cell_type": "markdown",
   "id": "b4272a55",
   "metadata": {
    "papermill": {
     "duration": 0.006948,
     "end_time": "2025-05-04T10:09:02.761742",
     "exception": false,
     "start_time": "2025-05-04T10:09:02.754794",
     "status": "completed"
    },
    "tags": []
   },
   "source": [
    "17. What is a nested dictionary, and how does it differ from a regular dictionary?\n",
    "   - a) A dictionary with duplicated keys; it differs in syntax.\n",
    "   - b) A dictionary with only one key-value pair; it differs in size.\n",
    "   - c) A dictionary that is a value within another dictionary; it allows for more complex data structures.\n",
    "   - d) A dictionary that automatically sorts its keys; it differs in sorting behavior.\n",
    "\n",
    "<details>\n",
    "<summary>Click to reveal the answer:</summary>\n",
    "c) A dictionary that is a value within another dictionary; it allows for more complex data structures."
   ]
  },
  {
   "cell_type": "markdown",
   "id": "0a3db8e0",
   "metadata": {
    "papermill": {
     "duration": 0.007057,
     "end_time": "2025-05-04T10:09:02.776136",
     "exception": false,
     "start_time": "2025-05-04T10:09:02.769079",
     "status": "completed"
    },
    "tags": []
   },
   "source": [
    "18. In the provided example, how would you access Ali's position in the `employee_data` dictionary?\n",
    "   - a) `employee_data['position']['Ali']`\n",
    "   - b) `employee_data['ALi']['position']`\n",
    "   - c) `employee_data['ALi'].position`\n",
    "   - d) `employee_data['position'].Ali`\n",
    "\n",
    "<details>\n",
    "<summary>Click to reveal the answer:</summary>\n",
    "b) `employee_data['Ali']['position']`"
   ]
  },
  {
   "cell_type": "markdown",
   "id": "395ff407",
   "metadata": {
    "papermill": {
     "duration": 0.007072,
     "end_time": "2025-05-04T10:09:02.790315",
     "exception": false,
     "start_time": "2025-05-04T10:09:02.783243",
     "status": "completed"
    },
    "tags": []
   },
   "source": [
    "19. In the context of practical applications, why might dictionaries be preferred over other data structures?\n",
    "   - a) Dictionaries provide quick and direct access to values through keys.\n",
    "   - b) Other data structures do not support key-value pairs.\n",
    "   - c) Dictionaries have a fixed size, ensuring better memory management.\n",
    "   - d) Other data structures are not as flexible in handling various data types.\n",
    "\n",
    "<details>\n",
    "<summary>Click to reveal the answer:</summary>\n",
    "a) Dictionaries provide quick and direct access to values through keys."
   ]
  },
  {
   "cell_type": "markdown",
   "id": "6e9894a3",
   "metadata": {
    "papermill": {
     "duration": 0.007002,
     "end_time": "2025-05-04T10:09:02.804542",
     "exception": false,
     "start_time": "2025-05-04T10:09:02.797540",
     "status": "completed"
    },
    "tags": []
   },
   "source": [
    "20. When might a nested dictionary be beneficial in a real-world scenario?\n",
    "   - a) When dealing with a small amount of structured data.\n",
    "   - b) When the data is unorganized and not hierarchical.\n",
    "   - c) When representing complex structures with nested attributes or categories.\n",
    "   - d) Nested dictionaries are never beneficial in real-world scenarios.\n",
    "\n",
    "<details>\n",
    "<summary>Click to reveal the answer:</summary>\n",
    "c) When representing complex structures with nested attributes or categories."
   ]
  },
  {
   "cell_type": "markdown",
   "id": "39b7fd02",
   "metadata": {
    "papermill": {
     "duration": 0.006923,
     "end_time": "2025-05-04T10:09:02.818654",
     "exception": false,
     "start_time": "2025-05-04T10:09:02.811731",
     "status": "completed"
    },
    "tags": []
   },
   "source": [
    "## **Exercises**\n",
    "\n",
    "Extend your understanding of dictionaries by solving the following exercises. These exercises are designed to challenge your problem-solving skills and creativity.\n",
    "\n",
    "#### Problem Solving with Dictionaries\n",
    "\n",
    "#### Q.1: **Word Frequency Counter:**\n",
    "   - Create a function `word_frequency(text)` that takes a string of text as input and returns a dictionary where keys are unique words, and values are the frequency of each word in the text. Ignore case sensitivity."
   ]
  },
  {
   "cell_type": "code",
   "execution_count": 12,
   "id": "ec8cadc2",
   "metadata": {
    "execution": {
     "iopub.execute_input": "2025-05-04T10:09:02.834181Z",
     "iopub.status.busy": "2025-05-04T10:09:02.833889Z",
     "iopub.status.idle": "2025-05-04T10:09:02.838855Z",
     "shell.execute_reply": "2025-05-04T10:09:02.837988Z"
    },
    "papermill": {
     "duration": 0.014501,
     "end_time": "2025-05-04T10:09:02.840295",
     "exception": false,
     "start_time": "2025-05-04T10:09:02.825794",
     "status": "completed"
    },
    "tags": []
   },
   "outputs": [],
   "source": [
    "# Word Frequency Counter\n",
    "def word_frequency(text):\n",
    "    word_count = {}\n",
    "    words = text.lower().split()\n",
    "    \n",
    "    for word in words:\n",
    "        # Remove punctuation from each word\n",
    "        word = word.strip(\".,!?\")\n",
    "        word_count[word] = word_count.get(word, 0) + 1\n",
    "\n",
    "    return word_count"
   ]
  },
  {
   "cell_type": "markdown",
   "id": "2dfc3822",
   "metadata": {
    "papermill": {
     "duration": 0.007177,
     "end_time": "2025-05-04T10:09:02.855328",
     "exception": false,
     "start_time": "2025-05-04T10:09:02.848151",
     "status": "completed"
    },
    "tags": []
   },
   "source": [
    "#### Q.2: **Voting System:**\n",
    "   - Create a function `voting_system(votes)` that takes a list of votes as input and returns a dictionary showing the count of each candidate's votes. Each candidate is represented by a string."
   ]
  },
  {
   "cell_type": "markdown",
   "id": "97919734",
   "metadata": {
    "papermill": {
     "duration": 0.007216,
     "end_time": "2025-05-04T10:09:02.869926",
     "exception": false,
     "start_time": "2025-05-04T10:09:02.862710",
     "status": "completed"
    },
    "tags": []
   },
   "source": [
    "#### Applying Nested Dictionaries\n",
    "\n",
    "#### Q.3: **Student Grades:**\n",
    "   - Create a nested dictionary to store grades of students. The outer dictionary should have student names as keys, and the inner dictionary should have subjects as keys and corresponding grades as values."
   ]
  },
  {
   "cell_type": "markdown",
   "id": "39ce3970",
   "metadata": {
    "papermill": {
     "duration": 0.00709,
     "end_time": "2025-05-04T10:09:02.884416",
     "exception": false,
     "start_time": "2025-05-04T10:09:02.877326",
     "status": "completed"
    },
    "tags": []
   },
   "source": [
    "#### Q.4: **Inventory Management:**\n",
    "   - Implement a simple inventory management system using nested dictionaries. The outer dictionary represents different products, and the inner dictionary includes information like quantity and price."
   ]
  },
  {
   "cell_type": "code",
   "execution_count": null,
   "id": "3b73ca90",
   "metadata": {
    "papermill": {
     "duration": 0.00713,
     "end_time": "2025-05-04T10:09:02.898850",
     "exception": false,
     "start_time": "2025-05-04T10:09:02.891720",
     "status": "completed"
    },
    "tags": []
   },
   "outputs": [],
   "source": []
  }
 ],
 "metadata": {
  "kaggle": {
   "accelerator": "none",
   "dataSources": [],
   "dockerImageVersionId": 31012,
   "isGpuEnabled": false,
   "isInternetEnabled": true,
   "language": "python",
   "sourceType": "notebook"
  },
  "kernelspec": {
   "display_name": "Python 3",
   "language": "python",
   "name": "python3"
  },
  "language_info": {
   "codemirror_mode": {
    "name": "ipython",
    "version": 3
   },
   "file_extension": ".py",
   "mimetype": "text/x-python",
   "name": "python",
   "nbconvert_exporter": "python",
   "pygments_lexer": "ipython3",
   "version": "3.11.11"
  },
  "papermill": {
   "default_parameters": {},
   "duration": 5.886411,
   "end_time": "2025-05-04T10:09:03.325402",
   "environment_variables": {},
   "exception": null,
   "input_path": "__notebook__.ipynb",
   "output_path": "__notebook__.ipynb",
   "parameters": {},
   "start_time": "2025-05-04T10:08:57.438991",
   "version": "2.6.0"
  }
 },
 "nbformat": 4,
 "nbformat_minor": 5
}
